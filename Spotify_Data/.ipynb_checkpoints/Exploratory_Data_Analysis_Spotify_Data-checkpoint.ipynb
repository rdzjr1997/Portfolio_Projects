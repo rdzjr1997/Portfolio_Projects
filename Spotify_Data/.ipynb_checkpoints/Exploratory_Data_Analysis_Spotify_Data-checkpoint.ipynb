{
 "cells": [
  {
   "cell_type": "markdown",
   "id": "e1f142b7",
   "metadata": {},
   "source": [
    "# Exploratory Data Analysis with Spotify Data"
   ]
  },
  {
   "cell_type": "markdown",
   "id": "59e05528",
   "metadata": {},
   "source": [
    "Link for dataset: https://www.kaggle.com/datasets/leonardopena/top50spotify2019"
   ]
  },
  {
   "cell_type": "markdown",
   "id": "49c26c6c",
   "metadata": {},
   "source": [
    "Some questions that we will answer:\n",
    "\n",
    "- Which songs and artists are more popular?\n",
    "\n",
    "- Which artist has more songs on spotify?\n",
    "\n",
    "- What can we know about the genre?\n",
    "\n",
    "- What is the mean of minutes that a top music has?\n"
   ]
  },
  {
   "cell_type": "code",
   "execution_count": 1,
   "id": "17311482",
   "metadata": {},
   "outputs": [],
   "source": [
    "# Install a pip package in the current Jupyter kernel\n",
    "#import sys\n",
    "#!{sys.executable} -m pip install ydata-profiling\n",
    "#!{sys.executable} -m pip install autoviz --upgrade"
   ]
  },
  {
   "cell_type": "code",
   "execution_count": 3,
   "id": "92c7ebab",
   "metadata": {},
   "outputs": [],
   "source": [
    "# Importing libraries\n",
    "\n",
    "import matplotlib.pyplot as plt\n",
    "import pandas as pd\n",
    "import plotly.express as px\n",
    "import seaborn as sns\n",
    "from ydata_profiling import ProfileReport\n",
    "from autoviz.AutoViz_Class import AutoViz_Class\n",
    "import warnings\n",
    "warnings.simplefilter(action=\"ignore\", category=FutureWarning)"
   ]
  },
  {
   "cell_type": "markdown",
   "id": "e6467472",
   "metadata": {},
   "source": [
    "## Get and Inspect the Data"
   ]
  },
  {
   "cell_type": "code",
   "execution_count": 4,
   "id": "ea82302b",
   "metadata": {},
   "outputs": [],
   "source": [
    "# We need to change the encoding to read the data\n",
    "df = pd.read_csv(\"top50.csv\", encoding=\"latin1\")"
   ]
  },
  {
   "cell_type": "code",
   "execution_count": 5,
   "id": "2ef641a2",
   "metadata": {},
   "outputs": [
    {
     "name": "stdout",
     "output_type": "stream",
     "text": [
      "Unnamed: 0\n",
      "Track.Name\n",
      "Artist.Name\n",
      "Genre\n",
      "Beats.Per.Minute\n",
      "Energy\n",
      "Danceability\n",
      "Loudness..dB..\n",
      "Liveness\n",
      "Valence.\n",
      "Length.\n",
      "Acousticness..\n",
      "Speechiness.\n",
      "Popularity\n"
     ]
    }
   ],
   "source": [
    "# Seeing all the columns names:\n",
    "for column_headers in df.columns:\n",
    "    print(column_headers)"
   ]
  },
  {
   "cell_type": "code",
   "execution_count": 6,
   "id": "e93fcd88",
   "metadata": {},
   "outputs": [
    {
     "data": {
      "text/html": [
       "<div>\n",
       "<style scoped>\n",
       "    .dataframe tbody tr th:only-of-type {\n",
       "        vertical-align: middle;\n",
       "    }\n",
       "\n",
       "    .dataframe tbody tr th {\n",
       "        vertical-align: top;\n",
       "    }\n",
       "\n",
       "    .dataframe thead th {\n",
       "        text-align: right;\n",
       "    }\n",
       "</style>\n",
       "<table border=\"1\" class=\"dataframe\">\n",
       "  <thead>\n",
       "    <tr style=\"text-align: right;\">\n",
       "      <th></th>\n",
       "      <th>Unnamed: 0</th>\n",
       "      <th>Track.Name</th>\n",
       "      <th>Artist.Name</th>\n",
       "      <th>Genre</th>\n",
       "      <th>Beats.Per.Minute</th>\n",
       "      <th>Energy</th>\n",
       "      <th>Danceability</th>\n",
       "      <th>Loudness..dB..</th>\n",
       "      <th>Liveness</th>\n",
       "      <th>Valence.</th>\n",
       "      <th>Length.</th>\n",
       "      <th>Acousticness..</th>\n",
       "      <th>Speechiness.</th>\n",
       "      <th>Popularity</th>\n",
       "    </tr>\n",
       "  </thead>\n",
       "  <tbody>\n",
       "    <tr>\n",
       "      <th>16</th>\n",
       "      <td>17</td>\n",
       "      <td>LA CANCIÓN</td>\n",
       "      <td>J Balvin</td>\n",
       "      <td>latin</td>\n",
       "      <td>176</td>\n",
       "      <td>65</td>\n",
       "      <td>75</td>\n",
       "      <td>-6</td>\n",
       "      <td>11</td>\n",
       "      <td>43</td>\n",
       "      <td>243</td>\n",
       "      <td>15</td>\n",
       "      <td>32</td>\n",
       "      <td>90</td>\n",
       "    </tr>\n",
       "    <tr>\n",
       "      <th>32</th>\n",
       "      <td>33</td>\n",
       "      <td>0.958333333333333</td>\n",
       "      <td>Maluma</td>\n",
       "      <td>reggaeton</td>\n",
       "      <td>96</td>\n",
       "      <td>71</td>\n",
       "      <td>78</td>\n",
       "      <td>-5</td>\n",
       "      <td>9</td>\n",
       "      <td>68</td>\n",
       "      <td>176</td>\n",
       "      <td>22</td>\n",
       "      <td>28</td>\n",
       "      <td>89</td>\n",
       "    </tr>\n",
       "    <tr>\n",
       "      <th>13</th>\n",
       "      <td>14</td>\n",
       "      <td>Otro Trago - Remix</td>\n",
       "      <td>Sech</td>\n",
       "      <td>panamanian pop</td>\n",
       "      <td>176</td>\n",
       "      <td>79</td>\n",
       "      <td>73</td>\n",
       "      <td>-2</td>\n",
       "      <td>6</td>\n",
       "      <td>76</td>\n",
       "      <td>288</td>\n",
       "      <td>7</td>\n",
       "      <td>20</td>\n",
       "      <td>87</td>\n",
       "    </tr>\n",
       "  </tbody>\n",
       "</table>\n",
       "</div>"
      ],
      "text/plain": [
       "    Unnamed: 0          Track.Name Artist.Name           Genre  \\\n",
       "16          17          LA CANCIÓN    J Balvin           latin   \n",
       "32          33   0.958333333333333      Maluma       reggaeton   \n",
       "13          14  Otro Trago - Remix        Sech  panamanian pop   \n",
       "\n",
       "    Beats.Per.Minute  Energy  Danceability  Loudness..dB..  Liveness  \\\n",
       "16               176      65            75              -6        11   \n",
       "32                96      71            78              -5         9   \n",
       "13               176      79            73              -2         6   \n",
       "\n",
       "    Valence.  Length.  Acousticness..  Speechiness.  Popularity  \n",
       "16        43      243              15            32          90  \n",
       "32        68      176              22            28          89  \n",
       "13        76      288               7            20          87  "
      ]
     },
     "execution_count": 6,
     "metadata": {},
     "output_type": "execute_result"
    }
   ],
   "source": [
    "# Sample the data\n",
    "df.sample(3)"
   ]
  },
  {
   "cell_type": "markdown",
   "id": "56b6b081",
   "metadata": {},
   "source": [
    "As we can see, we can drop the first column (\"Unnamed\") because it is just an index for the data"
   ]
  },
  {
   "cell_type": "code",
   "execution_count": 7,
   "id": "75138955",
   "metadata": {},
   "outputs": [
    {
     "data": {
      "text/html": [
       "<div>\n",
       "<style scoped>\n",
       "    .dataframe tbody tr th:only-of-type {\n",
       "        vertical-align: middle;\n",
       "    }\n",
       "\n",
       "    .dataframe tbody tr th {\n",
       "        vertical-align: top;\n",
       "    }\n",
       "\n",
       "    .dataframe thead th {\n",
       "        text-align: right;\n",
       "    }\n",
       "</style>\n",
       "<table border=\"1\" class=\"dataframe\">\n",
       "  <thead>\n",
       "    <tr style=\"text-align: right;\">\n",
       "      <th></th>\n",
       "      <th>Track.Name</th>\n",
       "      <th>Artist.Name</th>\n",
       "      <th>Genre</th>\n",
       "      <th>Beats.Per.Minute</th>\n",
       "      <th>Energy</th>\n",
       "      <th>Danceability</th>\n",
       "      <th>Loudness..dB..</th>\n",
       "      <th>Liveness</th>\n",
       "      <th>Valence.</th>\n",
       "      <th>Length.</th>\n",
       "      <th>Acousticness..</th>\n",
       "      <th>Speechiness.</th>\n",
       "      <th>Popularity</th>\n",
       "    </tr>\n",
       "  </thead>\n",
       "  <tbody>\n",
       "    <tr>\n",
       "      <th>0</th>\n",
       "      <td>Señorita</td>\n",
       "      <td>Shawn Mendes</td>\n",
       "      <td>canadian pop</td>\n",
       "      <td>117</td>\n",
       "      <td>55</td>\n",
       "      <td>76</td>\n",
       "      <td>-6</td>\n",
       "      <td>8</td>\n",
       "      <td>75</td>\n",
       "      <td>191</td>\n",
       "      <td>4</td>\n",
       "      <td>3</td>\n",
       "      <td>79</td>\n",
       "    </tr>\n",
       "    <tr>\n",
       "      <th>1</th>\n",
       "      <td>China</td>\n",
       "      <td>Anuel AA</td>\n",
       "      <td>reggaeton flow</td>\n",
       "      <td>105</td>\n",
       "      <td>81</td>\n",
       "      <td>79</td>\n",
       "      <td>-4</td>\n",
       "      <td>8</td>\n",
       "      <td>61</td>\n",
       "      <td>302</td>\n",
       "      <td>8</td>\n",
       "      <td>9</td>\n",
       "      <td>92</td>\n",
       "    </tr>\n",
       "    <tr>\n",
       "      <th>2</th>\n",
       "      <td>boyfriend (with Social House)</td>\n",
       "      <td>Ariana Grande</td>\n",
       "      <td>dance pop</td>\n",
       "      <td>190</td>\n",
       "      <td>80</td>\n",
       "      <td>40</td>\n",
       "      <td>-4</td>\n",
       "      <td>16</td>\n",
       "      <td>70</td>\n",
       "      <td>186</td>\n",
       "      <td>12</td>\n",
       "      <td>46</td>\n",
       "      <td>85</td>\n",
       "    </tr>\n",
       "  </tbody>\n",
       "</table>\n",
       "</div>"
      ],
      "text/plain": [
       "                      Track.Name    Artist.Name           Genre  \\\n",
       "0                       Señorita   Shawn Mendes    canadian pop   \n",
       "1                          China       Anuel AA  reggaeton flow   \n",
       "2  boyfriend (with Social House)  Ariana Grande       dance pop   \n",
       "\n",
       "   Beats.Per.Minute  Energy  Danceability  Loudness..dB..  Liveness  Valence.  \\\n",
       "0               117      55            76              -6         8        75   \n",
       "1               105      81            79              -4         8        61   \n",
       "2               190      80            40              -4        16        70   \n",
       "\n",
       "   Length.  Acousticness..  Speechiness.  Popularity  \n",
       "0      191               4             3          79  \n",
       "1      302               8             9          92  \n",
       "2      186              12            46          85  "
      ]
     },
     "execution_count": 7,
     "metadata": {},
     "output_type": "execute_result"
    }
   ],
   "source": [
    "# Droping the first column\n",
    "df.drop(df.columns[0], axis=\"columns\", inplace=True)\n",
    "df.head(3)"
   ]
  },
  {
   "cell_type": "markdown",
   "id": "3f2db5b2",
   "metadata": {},
   "source": [
    "Now we ca use the ydata-profiling to create a profiling report of the data.\n",
    "This create an initial Exploratory data Analysis"
   ]
  },
  {
   "cell_type": "code",
   "execution_count": 8,
   "id": "541f2154",
   "metadata": {},
   "outputs": [],
   "source": [
    "# Creating profile\n",
    "profile = ProfileReport(df, title=\"Profiling Report\")"
   ]
  },
  {
   "cell_type": "code",
   "execution_count": null,
   "id": "6b2c4d42",
   "metadata": {},
   "outputs": [],
   "source": []
  },
  {
   "cell_type": "code",
   "execution_count": 9,
   "id": "1c37ce78",
   "metadata": {},
   "outputs": [
    {
     "data": {
      "application/vnd.jupyter.widget-view+json": {
       "model_id": "af6457cfbd644857ba8933d0c5d78a4e",
       "version_major": 2,
       "version_minor": 0
      },
      "text/plain": [
       "Summarize dataset:   0%|          | 0/5 [00:00<?, ?it/s]"
      ]
     },
     "metadata": {},
     "output_type": "display_data"
    },
    {
     "data": {
      "application/vnd.jupyter.widget-view+json": {
       "model_id": "d2cabb6db9a845949ed112b79873fb2b",
       "version_major": 2,
       "version_minor": 0
      },
      "text/plain": [
       "Generate report structure:   0%|          | 0/1 [00:00<?, ?it/s]"
      ]
     },
     "metadata": {},
     "output_type": "display_data"
    },
    {
     "data": {
      "application/vnd.jupyter.widget-view+json": {
       "model_id": "",
       "version_major": 2,
       "version_minor": 0
      },
      "text/plain": [
       "Render widgets:   0%|          | 0/1 [00:00<?, ?it/s]"
      ]
     },
     "metadata": {},
     "output_type": "display_data"
    },
    {
     "data": {
      "application/vnd.jupyter.widget-view+json": {
       "model_id": "39eaee0e32ce4607b3b962e777e02fb0",
       "version_major": 2,
       "version_minor": 0
      },
      "text/plain": [
       "VBox(children=(Tab(children=(Tab(children=(GridBox(children=(VBox(children=(GridspecLayout(children=(HTML(valu…"
      ]
     },
     "metadata": {},
     "output_type": "display_data"
    }
   ],
   "source": [
    "# Exporting\n",
    "profile.to_widgets()"
   ]
  },
  {
   "cell_type": "markdown",
   "id": "0f27fb3e",
   "metadata": {},
   "source": [
    "The profiling report gives us an insight aboout the data, but we will investigate by ourselves too"
   ]
  },
  {
   "cell_type": "code",
   "execution_count": null,
   "id": "5404eadc",
   "metadata": {},
   "outputs": [],
   "source": []
  },
  {
   "cell_type": "code",
   "execution_count": null,
   "id": "a160dc6c",
   "metadata": {},
   "outputs": [],
   "source": [
    "# Overview of the data\n",
    "df.info()"
   ]
  },
  {
   "cell_type": "markdown",
   "id": "63bfb59c",
   "metadata": {},
   "source": [
    "As we can see, there aren't null values in our dataframe.\n",
    "\n",
    "Also, we have 2 \"object\" datatypes: \"Artist.Name\" and \"Genre\".\n",
    "\n",
    "The other features are numerical, \"int64\" datatype."
   ]
  },
  {
   "cell_type": "code",
   "execution_count": null,
   "id": "135f768c",
   "metadata": {},
   "outputs": [],
   "source": [
    "# Generate a descriptive statistics\n",
    "df.describe().T"
   ]
  },
  {
   "cell_type": "markdown",
   "id": "ad52311a",
   "metadata": {},
   "source": [
    "- <b>Beats per minute</b>: the mean are 120.06, that indicates that overall musics are fast\n",
    "- <b>Danceability</b>: the mean is 71.38 so, in general, the musics are very danceable\n",
    "- <b>Length</b>: the mean length is 200.96 minutes, this indicates that in general the musics of this dataset are long"
   ]
  },
  {
   "cell_type": "markdown",
   "id": "ba5bdc75",
   "metadata": {},
   "source": [
    "Checking the data distribution by ploting an histogram"
   ]
  },
  {
   "cell_type": "code",
   "execution_count": null,
   "id": "43aeea8b",
   "metadata": {},
   "outputs": [],
   "source": [
    "histo = df.hist(bins=10, figsize=(16,10))"
   ]
  },
  {
   "cell_type": "markdown",
   "id": "9faa55e2",
   "metadata": {},
   "source": [
    "We can see from the histogram that we don't have outliers in our dataset.\n",
    "\n",
    "We also see that some plots are very skewed, like: \"Beats.per.minute\", \"Danceability\", \"Popularity\", \"Liveness\""
   ]
  },
  {
   "cell_type": "code",
   "execution_count": null,
   "id": "006bf33d",
   "metadata": {},
   "outputs": [],
   "source": [
    "# Check correlation of the features by Pearson's correlation ploting a heatmap\n",
    "fig,ax = plt.subplots(figsize=(10,10))\n",
    "heatmap = sns.heatmap(df.corr(),\n",
    "                     cmap=\"Wistia\",\n",
    "                     annot=True,\n",
    "                     )"
   ]
  },
  {
   "cell_type": "markdown",
   "id": "4c7e97f2",
   "metadata": {},
   "source": [
    "We have some high positive correlation between \"Beats.per.minute\" and \"Speechiness\", \"Energy\" and \"Valence\""
   ]
  },
  {
   "cell_type": "markdown",
   "id": "15137a55",
   "metadata": {},
   "source": [
    "We can try another type of correlation. the Spearman's correlation"
   ]
  },
  {
   "cell_type": "code",
   "execution_count": null,
   "id": "3f432757",
   "metadata": {},
   "outputs": [],
   "source": [
    "# Check correlation of the features by Spearman's correlation ploting a heatmap\n",
    "fig,ax = plt.subplots(figsize=(10,10))\n",
    "heatmap = sns.heatmap(df.corr(\"spearman\"),\n",
    "                     cmap=\"Wistia\",\n",
    "                     annot=True,\n",
    "                     )"
   ]
  },
  {
   "cell_type": "code",
   "execution_count": null,
   "id": "67a9d94f",
   "metadata": {},
   "outputs": [],
   "source": [
    "# Plot pairwise relationships\n",
    "sns.pairplot(df)"
   ]
  },
  {
   "cell_type": "markdown",
   "id": "eedc0b2a",
   "metadata": {},
   "source": [
    "## Now we can start to answer our questions:"
   ]
  },
  {
   "cell_type": "markdown",
   "id": "db89d898",
   "metadata": {},
   "source": [
    "- Which songs and artists are more popular?"
   ]
  },
  {
   "cell_type": "code",
   "execution_count": null,
   "id": "982b70d1",
   "metadata": {},
   "outputs": [],
   "source": [
    "# All the artists in the dataset\n",
    "df[\"Artist.Name\"].value_counts()"
   ]
  },
  {
   "cell_type": "markdown",
   "id": "e8932ce4",
   "metadata": {},
   "source": [
    "As we can see \"Ed Sheeran\" is the artist with more musics in the dataset"
   ]
  },
  {
   "cell_type": "code",
   "execution_count": null,
   "id": "51108e8e",
   "metadata": {},
   "outputs": [],
   "source": [
    "df.nlargest(5, columns=[\"Popularity\"]).head()"
   ]
  },
  {
   "cell_type": "markdown",
   "id": "f272944f",
   "metadata": {},
   "source": [
    "Even with the greater number of musics in the dataset, Ed Sheeran's musics isn't in the top 5 popularity musics"
   ]
  },
  {
   "cell_type": "code",
   "execution_count": null,
   "id": "4644dbf0",
   "metadata": {},
   "outputs": [],
   "source": [
    "df[(df[\"Artist.Name\"] == \"Ed Sheeran\")].sort_values(by=\"Popularity\", ascending=False)"
   ]
  },
  {
   "cell_type": "markdown",
   "id": "3e327b39",
   "metadata": {},
   "source": [
    "So, Ed Sheeran's musics popularity it's between 82 and 87"
   ]
  },
  {
   "cell_type": "code",
   "execution_count": null,
   "id": "048b68a3",
   "metadata": {},
   "outputs": [],
   "source": [
    "# Top 5 artists dataframe\n",
    "df_artists = df.filter([\"Artist.Name\"])\n",
    "df_artists.head(3)"
   ]
  },
  {
   "cell_type": "code",
   "execution_count": null,
   "id": "63fa2858",
   "metadata": {},
   "outputs": [],
   "source": [
    "df_artists[\"Count\"]=1\n",
    "df_artist=df_artists.groupby(\"Artist.Name\")[\"Count\"].sum().reset_index().sort_values(by=\"Count\", ascending=False)"
   ]
  },
  {
   "cell_type": "code",
   "execution_count": null,
   "id": "cba18520",
   "metadata": {},
   "outputs": [],
   "source": [
    "df_artist.head()"
   ]
  },
  {
   "cell_type": "code",
   "execution_count": null,
   "id": "fc039ad2",
   "metadata": {},
   "outputs": [],
   "source": [
    "fig = px.bar(\n",
    "        df_artist.head(5),\n",
    "        x=\"Artist.Name\",\n",
    "        y=\"Count\",)\n",
    "        #text_auto=True)\n",
    "fig.update_layout(legend_orientation=\"h\",\n",
    "                  legend=dict(x=0, y=1, traceorder=\"normal\"),\n",
    "                  title=\"Top 5 Artists Names\",\n",
    "                  margin=dict(l=0, r=0, t=30, b=0)\n",
    "                 )\n",
    "\n",
    "fig.show()"
   ]
  },
  {
   "cell_type": "code",
   "execution_count": null,
   "id": "168897c9",
   "metadata": {},
   "outputs": [],
   "source": []
  }
 ],
 "metadata": {
  "kernelspec": {
   "display_name": "Python 3 (ipykernel)",
   "language": "python",
   "name": "python3"
  },
  "language_info": {
   "codemirror_mode": {
    "name": "ipython",
    "version": 3
   },
   "file_extension": ".py",
   "mimetype": "text/x-python",
   "name": "python",
   "nbconvert_exporter": "python",
   "pygments_lexer": "ipython3",
   "version": "3.9.13"
  }
 },
 "nbformat": 4,
 "nbformat_minor": 5
}
