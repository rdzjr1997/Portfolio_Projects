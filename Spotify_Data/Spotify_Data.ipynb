{
 "cells": [
  {
   "attachments": {},
   "cell_type": "markdown",
   "metadata": {},
   "source": [
    "## Exploratory Data Analysis with Spotify Data\n",
    "\n",
    "Link for dataset: https://www.kaggle.com/datasets/leonardopena/top50spotify2019"
   ]
  },
  {
   "attachments": {},
   "cell_type": "markdown",
   "metadata": {},
   "source": [
    "Some questions that we will answer:\n",
    "\n",
    "- Which songs and artists are more popular?\n",
    "\n",
    "- Which artist has more songs on spotify?\n",
    "\n",
    "- What can we know about the genre?\n",
    "\n",
    "- What is the mean of minutes that a top music has?\n"
   ]
  },
  {
   "cell_type": "code",
   "execution_count": 2,
   "metadata": {},
   "outputs": [],
   "source": [
    "# Importing Libraries\n",
    "\n",
    "import matplotlib.pyplot as plt\n",
    "import pandas as pd\n",
    "import plotly.express as px\n",
    "import seaborn as sns\n",
    "from skimpy import clean_columns\n",
    "from ydata_profiling import ProfileReport\n",
    "import warnings\n",
    "warnings.simplefilter(action='ignore', category=FutureWarning)\n",
    "\n",
    "%matplotlib inline\n"
   ]
  },
  {
   "attachments": {},
   "cell_type": "markdown",
   "metadata": {},
   "source": [
    "#### Get and Inspect the Data"
   ]
  },
  {
   "cell_type": "code",
   "execution_count": 3,
   "metadata": {},
   "outputs": [],
   "source": [
    "# We need to change the encoding to read the data\n",
    "df = pd.read_csv(\"top50.csv\", encoding=\"latin1\")"
   ]
  },
  {
   "cell_type": "code",
   "execution_count": 4,
   "metadata": {},
   "outputs": [
    {
     "name": "stdout",
     "output_type": "stream",
     "text": [
      "Unnamed: 0\n",
      "Track.Name\n",
      "Artist.Name\n",
      "Genre\n",
      "Beats.Per.Minute\n",
      "Energy\n",
      "Danceability\n",
      "Loudness..dB..\n",
      "Liveness\n",
      "Valence.\n",
      "Length.\n",
      "Acousticness..\n",
      "Speechiness.\n",
      "Popularity\n"
     ]
    }
   ],
   "source": [
    "# Seeing all the columns names\n",
    "for column_headers in df.columns:\n",
    "    print(column_headers)"
   ]
  },
  {
   "cell_type": "code",
   "execution_count": 5,
   "metadata": {},
   "outputs": [
    {
     "data": {
      "text/html": [
       "<div>\n",
       "<style scoped>\n",
       "    .dataframe tbody tr th:only-of-type {\n",
       "        vertical-align: middle;\n",
       "    }\n",
       "\n",
       "    .dataframe tbody tr th {\n",
       "        vertical-align: top;\n",
       "    }\n",
       "\n",
       "    .dataframe thead th {\n",
       "        text-align: right;\n",
       "    }\n",
       "</style>\n",
       "<table border=\"1\" class=\"dataframe\">\n",
       "  <thead>\n",
       "    <tr style=\"text-align: right;\">\n",
       "      <th></th>\n",
       "      <th>Unnamed: 0</th>\n",
       "      <th>Track.Name</th>\n",
       "      <th>Artist.Name</th>\n",
       "      <th>Genre</th>\n",
       "      <th>Beats.Per.Minute</th>\n",
       "      <th>Energy</th>\n",
       "      <th>Danceability</th>\n",
       "      <th>Loudness..dB..</th>\n",
       "      <th>Liveness</th>\n",
       "      <th>Valence.</th>\n",
       "      <th>Length.</th>\n",
       "      <th>Acousticness..</th>\n",
       "      <th>Speechiness.</th>\n",
       "      <th>Popularity</th>\n",
       "    </tr>\n",
       "  </thead>\n",
       "  <tbody>\n",
       "    <tr>\n",
       "      <th>0</th>\n",
       "      <td>1</td>\n",
       "      <td>Señorita</td>\n",
       "      <td>Shawn Mendes</td>\n",
       "      <td>canadian pop</td>\n",
       "      <td>117</td>\n",
       "      <td>55</td>\n",
       "      <td>76</td>\n",
       "      <td>-6</td>\n",
       "      <td>8</td>\n",
       "      <td>75</td>\n",
       "      <td>191</td>\n",
       "      <td>4</td>\n",
       "      <td>3</td>\n",
       "      <td>79</td>\n",
       "    </tr>\n",
       "    <tr>\n",
       "      <th>1</th>\n",
       "      <td>2</td>\n",
       "      <td>China</td>\n",
       "      <td>Anuel AA</td>\n",
       "      <td>reggaeton flow</td>\n",
       "      <td>105</td>\n",
       "      <td>81</td>\n",
       "      <td>79</td>\n",
       "      <td>-4</td>\n",
       "      <td>8</td>\n",
       "      <td>61</td>\n",
       "      <td>302</td>\n",
       "      <td>8</td>\n",
       "      <td>9</td>\n",
       "      <td>92</td>\n",
       "    </tr>\n",
       "    <tr>\n",
       "      <th>2</th>\n",
       "      <td>3</td>\n",
       "      <td>boyfriend (with Social House)</td>\n",
       "      <td>Ariana Grande</td>\n",
       "      <td>dance pop</td>\n",
       "      <td>190</td>\n",
       "      <td>80</td>\n",
       "      <td>40</td>\n",
       "      <td>-4</td>\n",
       "      <td>16</td>\n",
       "      <td>70</td>\n",
       "      <td>186</td>\n",
       "      <td>12</td>\n",
       "      <td>46</td>\n",
       "      <td>85</td>\n",
       "    </tr>\n",
       "    <tr>\n",
       "      <th>3</th>\n",
       "      <td>4</td>\n",
       "      <td>Beautiful People (feat. Khalid)</td>\n",
       "      <td>Ed Sheeran</td>\n",
       "      <td>pop</td>\n",
       "      <td>93</td>\n",
       "      <td>65</td>\n",
       "      <td>64</td>\n",
       "      <td>-8</td>\n",
       "      <td>8</td>\n",
       "      <td>55</td>\n",
       "      <td>198</td>\n",
       "      <td>12</td>\n",
       "      <td>19</td>\n",
       "      <td>86</td>\n",
       "    </tr>\n",
       "    <tr>\n",
       "      <th>4</th>\n",
       "      <td>5</td>\n",
       "      <td>Goodbyes (Feat. Young Thug)</td>\n",
       "      <td>Post Malone</td>\n",
       "      <td>dfw rap</td>\n",
       "      <td>150</td>\n",
       "      <td>65</td>\n",
       "      <td>58</td>\n",
       "      <td>-4</td>\n",
       "      <td>11</td>\n",
       "      <td>18</td>\n",
       "      <td>175</td>\n",
       "      <td>45</td>\n",
       "      <td>7</td>\n",
       "      <td>94</td>\n",
       "    </tr>\n",
       "  </tbody>\n",
       "</table>\n",
       "</div>"
      ],
      "text/plain": [
       "   Unnamed: 0                       Track.Name    Artist.Name           Genre  \\\n",
       "0           1                         Señorita   Shawn Mendes    canadian pop   \n",
       "1           2                            China       Anuel AA  reggaeton flow   \n",
       "2           3    boyfriend (with Social House)  Ariana Grande       dance pop   \n",
       "3           4  Beautiful People (feat. Khalid)     Ed Sheeran             pop   \n",
       "4           5      Goodbyes (Feat. Young Thug)    Post Malone         dfw rap   \n",
       "\n",
       "   Beats.Per.Minute  Energy  Danceability  Loudness..dB..  Liveness  Valence.  \\\n",
       "0               117      55            76              -6         8        75   \n",
       "1               105      81            79              -4         8        61   \n",
       "2               190      80            40              -4        16        70   \n",
       "3                93      65            64              -8         8        55   \n",
       "4               150      65            58              -4        11        18   \n",
       "\n",
       "   Length.  Acousticness..  Speechiness.  Popularity  \n",
       "0      191               4             3          79  \n",
       "1      302               8             9          92  \n",
       "2      186              12            46          85  \n",
       "3      198              12            19          86  \n",
       "4      175              45             7          94  "
      ]
     },
     "execution_count": 5,
     "metadata": {},
     "output_type": "execute_result"
    }
   ],
   "source": [
    "# Sample the data\n",
    "df.head()"
   ]
  },
  {
   "attachments": {},
   "cell_type": "markdown",
   "metadata": {},
   "source": [
    "As we can see, we can drop the first column (\"Unnamed\") because it is just an index for the data"
   ]
  },
  {
   "cell_type": "code",
   "execution_count": 6,
   "metadata": {},
   "outputs": [
    {
     "data": {
      "text/html": [
       "<div>\n",
       "<style scoped>\n",
       "    .dataframe tbody tr th:only-of-type {\n",
       "        vertical-align: middle;\n",
       "    }\n",
       "\n",
       "    .dataframe tbody tr th {\n",
       "        vertical-align: top;\n",
       "    }\n",
       "\n",
       "    .dataframe thead th {\n",
       "        text-align: right;\n",
       "    }\n",
       "</style>\n",
       "<table border=\"1\" class=\"dataframe\">\n",
       "  <thead>\n",
       "    <tr style=\"text-align: right;\">\n",
       "      <th></th>\n",
       "      <th>Track.Name</th>\n",
       "      <th>Artist.Name</th>\n",
       "      <th>Genre</th>\n",
       "      <th>Beats.Per.Minute</th>\n",
       "      <th>Energy</th>\n",
       "      <th>Danceability</th>\n",
       "      <th>Loudness..dB..</th>\n",
       "      <th>Liveness</th>\n",
       "      <th>Valence.</th>\n",
       "      <th>Length.</th>\n",
       "      <th>Acousticness..</th>\n",
       "      <th>Speechiness.</th>\n",
       "      <th>Popularity</th>\n",
       "    </tr>\n",
       "  </thead>\n",
       "  <tbody>\n",
       "    <tr>\n",
       "      <th>0</th>\n",
       "      <td>Señorita</td>\n",
       "      <td>Shawn Mendes</td>\n",
       "      <td>canadian pop</td>\n",
       "      <td>117</td>\n",
       "      <td>55</td>\n",
       "      <td>76</td>\n",
       "      <td>-6</td>\n",
       "      <td>8</td>\n",
       "      <td>75</td>\n",
       "      <td>191</td>\n",
       "      <td>4</td>\n",
       "      <td>3</td>\n",
       "      <td>79</td>\n",
       "    </tr>\n",
       "    <tr>\n",
       "      <th>1</th>\n",
       "      <td>China</td>\n",
       "      <td>Anuel AA</td>\n",
       "      <td>reggaeton flow</td>\n",
       "      <td>105</td>\n",
       "      <td>81</td>\n",
       "      <td>79</td>\n",
       "      <td>-4</td>\n",
       "      <td>8</td>\n",
       "      <td>61</td>\n",
       "      <td>302</td>\n",
       "      <td>8</td>\n",
       "      <td>9</td>\n",
       "      <td>92</td>\n",
       "    </tr>\n",
       "    <tr>\n",
       "      <th>2</th>\n",
       "      <td>boyfriend (with Social House)</td>\n",
       "      <td>Ariana Grande</td>\n",
       "      <td>dance pop</td>\n",
       "      <td>190</td>\n",
       "      <td>80</td>\n",
       "      <td>40</td>\n",
       "      <td>-4</td>\n",
       "      <td>16</td>\n",
       "      <td>70</td>\n",
       "      <td>186</td>\n",
       "      <td>12</td>\n",
       "      <td>46</td>\n",
       "      <td>85</td>\n",
       "    </tr>\n",
       "    <tr>\n",
       "      <th>3</th>\n",
       "      <td>Beautiful People (feat. Khalid)</td>\n",
       "      <td>Ed Sheeran</td>\n",
       "      <td>pop</td>\n",
       "      <td>93</td>\n",
       "      <td>65</td>\n",
       "      <td>64</td>\n",
       "      <td>-8</td>\n",
       "      <td>8</td>\n",
       "      <td>55</td>\n",
       "      <td>198</td>\n",
       "      <td>12</td>\n",
       "      <td>19</td>\n",
       "      <td>86</td>\n",
       "    </tr>\n",
       "    <tr>\n",
       "      <th>4</th>\n",
       "      <td>Goodbyes (Feat. Young Thug)</td>\n",
       "      <td>Post Malone</td>\n",
       "      <td>dfw rap</td>\n",
       "      <td>150</td>\n",
       "      <td>65</td>\n",
       "      <td>58</td>\n",
       "      <td>-4</td>\n",
       "      <td>11</td>\n",
       "      <td>18</td>\n",
       "      <td>175</td>\n",
       "      <td>45</td>\n",
       "      <td>7</td>\n",
       "      <td>94</td>\n",
       "    </tr>\n",
       "  </tbody>\n",
       "</table>\n",
       "</div>"
      ],
      "text/plain": [
       "                        Track.Name    Artist.Name           Genre  \\\n",
       "0                         Señorita   Shawn Mendes    canadian pop   \n",
       "1                            China       Anuel AA  reggaeton flow   \n",
       "2    boyfriend (with Social House)  Ariana Grande       dance pop   \n",
       "3  Beautiful People (feat. Khalid)     Ed Sheeran             pop   \n",
       "4      Goodbyes (Feat. Young Thug)    Post Malone         dfw rap   \n",
       "\n",
       "   Beats.Per.Minute  Energy  Danceability  Loudness..dB..  Liveness  Valence.  \\\n",
       "0               117      55            76              -6         8        75   \n",
       "1               105      81            79              -4         8        61   \n",
       "2               190      80            40              -4        16        70   \n",
       "3                93      65            64              -8         8        55   \n",
       "4               150      65            58              -4        11        18   \n",
       "\n",
       "   Length.  Acousticness..  Speechiness.  Popularity  \n",
       "0      191               4             3          79  \n",
       "1      302               8             9          92  \n",
       "2      186              12            46          85  \n",
       "3      198              12            19          86  \n",
       "4      175              45             7          94  "
      ]
     },
     "execution_count": 6,
     "metadata": {},
     "output_type": "execute_result"
    }
   ],
   "source": [
    "# Droping the first column\n",
    "df.drop(df.columns[0], axis=\"columns\", inplace=True)\n",
    "df.head()"
   ]
  },
  {
   "attachments": {},
   "cell_type": "markdown",
   "metadata": {},
   "source": [
    "Now we can use the ydata-profiling to create a profiling report of the data.\n",
    "This create an initial Exploratory Data Analysis."
   ]
  },
  {
   "cell_type": "code",
   "execution_count": 7,
   "metadata": {},
   "outputs": [],
   "source": [
    "# Creating profile\n",
    "profile = ProfileReport(df, title=\"Profiling Report\")"
   ]
  },
  {
   "cell_type": "code",
   "execution_count": 8,
   "metadata": {},
   "outputs": [
    {
     "data": {
      "application/vnd.jupyter.widget-view+json": {
       "model_id": "da3eaef69d2c42beb8c845b6826d1b78",
       "version_major": 2,
       "version_minor": 0
      },
      "text/plain": [
       "Summarize dataset:   0%|          | 0/5 [00:00<?, ?it/s]"
      ]
     },
     "metadata": {},
     "output_type": "display_data"
    },
    {
     "data": {
      "application/vnd.jupyter.widget-view+json": {
       "model_id": "327b800252c744be808fa88d90ba1f18",
       "version_major": 2,
       "version_minor": 0
      },
      "text/plain": [
       "Generate report structure:   0%|          | 0/1 [00:00<?, ?it/s]"
      ]
     },
     "metadata": {},
     "output_type": "display_data"
    },
    {
     "data": {
      "application/vnd.jupyter.widget-view+json": {
       "model_id": "b8b1f8e12fcf42a6acca0a93a56e5303",
       "version_major": 2,
       "version_minor": 0
      },
      "text/plain": [
       "Render HTML:   0%|          | 0/1 [00:00<?, ?it/s]"
      ]
     },
     "metadata": {},
     "output_type": "display_data"
    },
    {
     "data": {
      "application/vnd.jupyter.widget-view+json": {
       "model_id": "1d5a4ddb257c420ba9a86f4810a79189",
       "version_major": 2,
       "version_minor": 0
      },
      "text/plain": [
       "Export report to file:   0%|          | 0/1 [00:00<?, ?it/s]"
      ]
     },
     "metadata": {},
     "output_type": "display_data"
    }
   ],
   "source": [
    "# Exporting to a file\n",
    "profile.to_file(\"Spotify_Profiling_Report.html\")"
   ]
  },
  {
   "attachments": {},
   "cell_type": "markdown",
   "metadata": {},
   "source": [
    "The profiling report gives us an insight about the data, but we will investigate by ourselves too"
   ]
  },
  {
   "cell_type": "code",
   "execution_count": 9,
   "metadata": {},
   "outputs": [
    {
     "name": "stdout",
     "output_type": "stream",
     "text": [
      "<class 'pandas.core.frame.DataFrame'>\n",
      "RangeIndex: 50 entries, 0 to 49\n",
      "Data columns (total 13 columns):\n",
      " #   Column            Non-Null Count  Dtype \n",
      "---  ------            --------------  ----- \n",
      " 0   Track.Name        50 non-null     object\n",
      " 1   Artist.Name       50 non-null     object\n",
      " 2   Genre             50 non-null     object\n",
      " 3   Beats.Per.Minute  50 non-null     int64 \n",
      " 4   Energy            50 non-null     int64 \n",
      " 5   Danceability      50 non-null     int64 \n",
      " 6   Loudness..dB..    50 non-null     int64 \n",
      " 7   Liveness          50 non-null     int64 \n",
      " 8   Valence.          50 non-null     int64 \n",
      " 9   Length.           50 non-null     int64 \n",
      " 10  Acousticness..    50 non-null     int64 \n",
      " 11  Speechiness.      50 non-null     int64 \n",
      " 12  Popularity        50 non-null     int64 \n",
      "dtypes: int64(10), object(3)\n",
      "memory usage: 5.2+ KB\n"
     ]
    }
   ],
   "source": [
    "# Overview of the data\n",
    "df.info()"
   ]
  },
  {
   "attachments": {},
   "cell_type": "markdown",
   "metadata": {},
   "source": [
    "As we can see, there aren't null values in our dataframe.\n",
    "\n",
    "Also, we have 2 \"object\" datatypes: Artist.name and Genre\n",
    "\n",
    "The others features are numerical, \"int64\" datatype"
   ]
  },
  {
   "cell_type": "code",
   "execution_count": 10,
   "metadata": {},
   "outputs": [
    {
     "data": {
      "text/html": [
       "<div>\n",
       "<style scoped>\n",
       "    .dataframe tbody tr th:only-of-type {\n",
       "        vertical-align: middle;\n",
       "    }\n",
       "\n",
       "    .dataframe tbody tr th {\n",
       "        vertical-align: top;\n",
       "    }\n",
       "\n",
       "    .dataframe thead th {\n",
       "        text-align: right;\n",
       "    }\n",
       "</style>\n",
       "<table border=\"1\" class=\"dataframe\">\n",
       "  <thead>\n",
       "    <tr style=\"text-align: right;\">\n",
       "      <th></th>\n",
       "      <th>count</th>\n",
       "      <th>mean</th>\n",
       "      <th>std</th>\n",
       "      <th>min</th>\n",
       "      <th>25%</th>\n",
       "      <th>50%</th>\n",
       "      <th>75%</th>\n",
       "      <th>max</th>\n",
       "    </tr>\n",
       "  </thead>\n",
       "  <tbody>\n",
       "    <tr>\n",
       "      <th>Beats.Per.Minute</th>\n",
       "      <td>50.0</td>\n",
       "      <td>120.06</td>\n",
       "      <td>30.898392</td>\n",
       "      <td>85.0</td>\n",
       "      <td>96.00</td>\n",
       "      <td>104.5</td>\n",
       "      <td>137.50</td>\n",
       "      <td>190.0</td>\n",
       "    </tr>\n",
       "    <tr>\n",
       "      <th>Energy</th>\n",
       "      <td>50.0</td>\n",
       "      <td>64.06</td>\n",
       "      <td>14.231913</td>\n",
       "      <td>32.0</td>\n",
       "      <td>55.25</td>\n",
       "      <td>66.5</td>\n",
       "      <td>74.75</td>\n",
       "      <td>88.0</td>\n",
       "    </tr>\n",
       "    <tr>\n",
       "      <th>Danceability</th>\n",
       "      <td>50.0</td>\n",
       "      <td>71.38</td>\n",
       "      <td>11.929880</td>\n",
       "      <td>29.0</td>\n",
       "      <td>67.00</td>\n",
       "      <td>73.5</td>\n",
       "      <td>79.75</td>\n",
       "      <td>90.0</td>\n",
       "    </tr>\n",
       "    <tr>\n",
       "      <th>Loudness..dB..</th>\n",
       "      <td>50.0</td>\n",
       "      <td>-5.66</td>\n",
       "      <td>2.056448</td>\n",
       "      <td>-11.0</td>\n",
       "      <td>-6.75</td>\n",
       "      <td>-6.0</td>\n",
       "      <td>-4.00</td>\n",
       "      <td>-2.0</td>\n",
       "    </tr>\n",
       "    <tr>\n",
       "      <th>Liveness</th>\n",
       "      <td>50.0</td>\n",
       "      <td>14.66</td>\n",
       "      <td>11.118306</td>\n",
       "      <td>5.0</td>\n",
       "      <td>8.00</td>\n",
       "      <td>11.0</td>\n",
       "      <td>15.75</td>\n",
       "      <td>58.0</td>\n",
       "    </tr>\n",
       "    <tr>\n",
       "      <th>Valence.</th>\n",
       "      <td>50.0</td>\n",
       "      <td>54.60</td>\n",
       "      <td>22.336024</td>\n",
       "      <td>10.0</td>\n",
       "      <td>38.25</td>\n",
       "      <td>55.5</td>\n",
       "      <td>69.50</td>\n",
       "      <td>95.0</td>\n",
       "    </tr>\n",
       "    <tr>\n",
       "      <th>Length.</th>\n",
       "      <td>50.0</td>\n",
       "      <td>200.96</td>\n",
       "      <td>39.143879</td>\n",
       "      <td>115.0</td>\n",
       "      <td>176.75</td>\n",
       "      <td>198.0</td>\n",
       "      <td>217.50</td>\n",
       "      <td>309.0</td>\n",
       "    </tr>\n",
       "    <tr>\n",
       "      <th>Acousticness..</th>\n",
       "      <td>50.0</td>\n",
       "      <td>22.16</td>\n",
       "      <td>18.995553</td>\n",
       "      <td>1.0</td>\n",
       "      <td>8.25</td>\n",
       "      <td>15.0</td>\n",
       "      <td>33.75</td>\n",
       "      <td>75.0</td>\n",
       "    </tr>\n",
       "    <tr>\n",
       "      <th>Speechiness.</th>\n",
       "      <td>50.0</td>\n",
       "      <td>12.48</td>\n",
       "      <td>11.161596</td>\n",
       "      <td>3.0</td>\n",
       "      <td>5.00</td>\n",
       "      <td>7.0</td>\n",
       "      <td>15.00</td>\n",
       "      <td>46.0</td>\n",
       "    </tr>\n",
       "    <tr>\n",
       "      <th>Popularity</th>\n",
       "      <td>50.0</td>\n",
       "      <td>87.50</td>\n",
       "      <td>4.491489</td>\n",
       "      <td>70.0</td>\n",
       "      <td>86.00</td>\n",
       "      <td>88.0</td>\n",
       "      <td>90.75</td>\n",
       "      <td>95.0</td>\n",
       "    </tr>\n",
       "  </tbody>\n",
       "</table>\n",
       "</div>"
      ],
      "text/plain": [
       "                  count    mean        std    min     25%    50%     75%  \\\n",
       "Beats.Per.Minute   50.0  120.06  30.898392   85.0   96.00  104.5  137.50   \n",
       "Energy             50.0   64.06  14.231913   32.0   55.25   66.5   74.75   \n",
       "Danceability       50.0   71.38  11.929880   29.0   67.00   73.5   79.75   \n",
       "Loudness..dB..     50.0   -5.66   2.056448  -11.0   -6.75   -6.0   -4.00   \n",
       "Liveness           50.0   14.66  11.118306    5.0    8.00   11.0   15.75   \n",
       "Valence.           50.0   54.60  22.336024   10.0   38.25   55.5   69.50   \n",
       "Length.            50.0  200.96  39.143879  115.0  176.75  198.0  217.50   \n",
       "Acousticness..     50.0   22.16  18.995553    1.0    8.25   15.0   33.75   \n",
       "Speechiness.       50.0   12.48  11.161596    3.0    5.00    7.0   15.00   \n",
       "Popularity         50.0   87.50   4.491489   70.0   86.00   88.0   90.75   \n",
       "\n",
       "                    max  \n",
       "Beats.Per.Minute  190.0  \n",
       "Energy             88.0  \n",
       "Danceability       90.0  \n",
       "Loudness..dB..     -2.0  \n",
       "Liveness           58.0  \n",
       "Valence.           95.0  \n",
       "Length.           309.0  \n",
       "Acousticness..     75.0  \n",
       "Speechiness.       46.0  \n",
       "Popularity         95.0  "
      ]
     },
     "execution_count": 10,
     "metadata": {},
     "output_type": "execute_result"
    }
   ],
   "source": [
    "# Generate a descriptive statistics\n",
    "df.describe().T"
   ]
  },
  {
   "attachments": {},
   "cell_type": "markdown",
   "metadata": {},
   "source": [
    "- Beats per minute: the mean are 120.06, that indicates that the overall musics are fast\n",
    "- Danceability: the mean is 71.38 so, in general, the musics are very danceable\n",
    "- Length: the mean length is 200.96 minutes, this indicates that in general the musics of ths dataset are long"
   ]
  },
  {
   "attachments": {},
   "cell_type": "markdown",
   "metadata": {},
   "source": [
    "Checking the data distribution by ploting an histogram"
   ]
  },
  {
   "cell_type": "code",
   "execution_count": 11,
   "metadata": {},
   "outputs": [
    {
     "data": {
      "image/png": "[encoded data removed]",
      "text/plain": [
       "<Figure size 1600x1000 with 12 Axes>"
      ]
     },
     "metadata": {},
     "output_type": "display_data"
    }
   ],
   "source": [
    "histo = df.hist(bins=10, figsize=(16,10))"
   ]
  },
  {
   "attachments": {},
   "cell_type": "markdown",
   "metadata": {},
   "source": [
    "We can see from the histogram that we don't have outliers in our dataset.\n",
    "\n",
    "We also see that some plots are very skewed, like: \"Beats.per.minute\", \"Danceability\", \"Popularity\", \"Liveness\""
   ]
  },
  {
   "cell_type": "code",
   "execution_count": 12,
   "metadata": {},
   "outputs": [
    {
     "data": {
      "text/html": [
       "<style type=\"text/css\">\n",
       "#T_436a5_row0_col0, #T_436a5_row1_col1, #T_436a5_row2_col2, #T_436a5_row3_col3, #T_436a5_row4_col4, #T_436a5_row5_col5, #T_436a5_row6_col6, #T_436a5_row7_col7, #T_436a5_row8_col8, #T_436a5_row9_col9 {\n",
       "  background-color: #fc7f00;\n",
       "  color: #f1f1f1;\n",
       "}\n",
       "#T_436a5_row0_col1 {\n",
       "  background-color: #ffe216;\n",
       "  color: #000000;\n",
       "}\n",
       "#T_436a5_row0_col2 {\n",
       "  background-color: #e9fb68;\n",
       "  color: #000000;\n",
       "}\n",
       "#T_436a5_row0_col3, #T_436a5_row0_col7, #T_436a5_row2_col3, #T_436a5_row6_col5, #T_436a5_row9_col7 {\n",
       "  background-color: #fdea23;\n",
       "  color: #000000;\n",
       "}\n",
       "#T_436a5_row0_col4, #T_436a5_row0_col6, #T_436a5_row1_col7, #T_436a5_row3_col8, #T_436a5_row4_col0, #T_436a5_row4_col2, #T_436a5_row5_col9, #T_436a5_row7_col1, #T_436a5_row8_col3, #T_436a5_row9_col5 {\n",
       "  background-color: #e4ff7a;\n",
       "  color: #000000;\n",
       "}\n",
       "#T_436a5_row0_col5 {\n",
       "  background-color: #fdea21;\n",
       "  color: #000000;\n",
       "}\n",
       "#T_436a5_row0_col8 {\n",
       "  background-color: #ffab00;\n",
       "  color: #000000;\n",
       "}\n",
       "#T_436a5_row0_col9 {\n",
       "  background-color: #ffd00c;\n",
       "  color: #000000;\n",
       "}\n",
       "#T_436a5_row1_col0, #T_436a5_row1_col9, #T_436a5_row2_col7, #T_436a5_row9_col3 {\n",
       "  background-color: #f7ee35;\n",
       "  color: #000000;\n",
       "}\n",
       "#T_436a5_row1_col2 {\n",
       "  background-color: #f4f242;\n",
       "  color: #000000;\n",
       "}\n",
       "#T_436a5_row1_col3 {\n",
       "  background-color: #ffa100;\n",
       "  color: #000000;\n",
       "}\n",
       "#T_436a5_row1_col4 {\n",
       "  background-color: #ffe217;\n",
       "  color: #000000;\n",
       "}\n",
       "#T_436a5_row1_col5 {\n",
       "  background-color: #ffb500;\n",
       "  color: #000000;\n",
       "}\n",
       "#T_436a5_row1_col6 {\n",
       "  background-color: #ffdc13;\n",
       "  color: #000000;\n",
       "}\n",
       "#T_436a5_row1_col8, #T_436a5_row3_col2 {\n",
       "  background-color: #f3f244;\n",
       "  color: #000000;\n",
       "}\n",
       "#T_436a5_row2_col0 {\n",
       "  background-color: #ebf962;\n",
       "  color: #000000;\n",
       "}\n",
       "#T_436a5_row2_col1 {\n",
       "  background-color: #ffe518;\n",
       "  color: #000000;\n",
       "}\n",
       "#T_436a5_row2_col4 {\n",
       "  background-color: #e5fe75;\n",
       "  color: #000000;\n",
       "}\n",
       "#T_436a5_row2_col5 {\n",
       "  background-color: #ffd30d;\n",
       "  color: #000000;\n",
       "}\n",
       "#T_436a5_row2_col6 {\n",
       "  background-color: #f1f44b;\n",
       "  color: #000000;\n",
       "}\n",
       "#T_436a5_row2_col8, #T_436a5_row6_col2 {\n",
       "  background-color: #f2f348;\n",
       "  color: #000000;\n",
       "}\n",
       "#T_436a5_row2_col9, #T_436a5_row8_col1 {\n",
       "  background-color: #f8ee33;\n",
       "  color: #000000;\n",
       "}\n",
       "#T_436a5_row3_col0, #T_436a5_row5_col4 {\n",
       "  background-color: #f5f13e;\n",
       "  color: #000000;\n",
       "}\n",
       "#T_436a5_row3_col1 {\n",
       "  background-color: #ff9f00;\n",
       "  color: #000000;\n",
       "}\n",
       "#T_436a5_row3_col4 {\n",
       "  background-color: #ffd40e;\n",
       "  color: #000000;\n",
       "}\n",
       "#T_436a5_row3_col5, #T_436a5_row6_col1 {\n",
       "  background-color: #ffcb08;\n",
       "  color: #000000;\n",
       "}\n",
       "#T_436a5_row3_col6 {\n",
       "  background-color: #ffdd13;\n",
       "  color: #000000;\n",
       "}\n",
       "#T_436a5_row3_col7 {\n",
       "  background-color: #f4f141;\n",
       "  color: #000000;\n",
       "}\n",
       "#T_436a5_row3_col9 {\n",
       "  background-color: #faec2a;\n",
       "  color: #000000;\n",
       "}\n",
       "#T_436a5_row4_col1 {\n",
       "  background-color: #ffd20d;\n",
       "  color: #000000;\n",
       "}\n",
       "#T_436a5_row4_col3 {\n",
       "  background-color: #ffcc09;\n",
       "  color: #000000;\n",
       "}\n",
       "#T_436a5_row4_col5, #T_436a5_row6_col8 {\n",
       "  background-color: #ffe81a;\n",
       "  color: #000000;\n",
       "}\n",
       "#T_436a5_row4_col6 {\n",
       "  background-color: #fde920;\n",
       "  color: #000000;\n",
       "}\n",
       "#T_436a5_row4_col7 {\n",
       "  background-color: #ffe418;\n",
       "  color: #000000;\n",
       "}\n",
       "#T_436a5_row4_col8, #T_436a5_row7_col0 {\n",
       "  background-color: #f0f54e;\n",
       "  color: #000000;\n",
       "}\n",
       "#T_436a5_row4_col9, #T_436a5_row9_col0 {\n",
       "  background-color: #ffde14;\n",
       "  color: #000000;\n",
       "}\n",
       "#T_436a5_row5_col0 {\n",
       "  background-color: #f2f347;\n",
       "  color: #000000;\n",
       "}\n",
       "#T_436a5_row5_col1 {\n",
       "  background-color: #ffb400;\n",
       "  color: #000000;\n",
       "}\n",
       "#T_436a5_row5_col2 {\n",
       "  background-color: #ffe317;\n",
       "  color: #000000;\n",
       "}\n",
       "#T_436a5_row5_col3, #T_436a5_row9_col8 {\n",
       "  background-color: #ffce0a;\n",
       "  color: #000000;\n",
       "}\n",
       "#T_436a5_row5_col6 {\n",
       "  background-color: #eff551;\n",
       "  color: #000000;\n",
       "}\n",
       "#T_436a5_row5_col7, #T_436a5_row7_col9 {\n",
       "  background-color: #fbec29;\n",
       "  color: #000000;\n",
       "}\n",
       "#T_436a5_row5_col8, #T_436a5_row6_col9 {\n",
       "  background-color: #f7ef38;\n",
       "  color: #000000;\n",
       "}\n",
       "#T_436a5_row6_col0 {\n",
       "  background-color: #e7fd71;\n",
       "  color: #000000;\n",
       "}\n",
       "#T_436a5_row6_col3 {\n",
       "  background-color: #ffd10c;\n",
       "  color: #000000;\n",
       "}\n",
       "#T_436a5_row6_col4 {\n",
       "  background-color: #ffe719;\n",
       "  color: #000000;\n",
       "}\n",
       "#T_436a5_row6_col7 {\n",
       "  background-color: #f9ed2f;\n",
       "  color: #000000;\n",
       "}\n",
       "#T_436a5_row7_col2, #T_436a5_row9_col6 {\n",
       "  background-color: #e9fb69;\n",
       "  color: #000000;\n",
       "}\n",
       "#T_436a5_row7_col3 {\n",
       "  background-color: #eff653;\n",
       "  color: #000000;\n",
       "}\n",
       "#T_436a5_row7_col4, #T_436a5_row8_col6 {\n",
       "  background-color: #f5f03c;\n",
       "  color: #000000;\n",
       "}\n",
       "#T_436a5_row7_col5, #T_436a5_row8_col5 {\n",
       "  background-color: #faed2d;\n",
       "  color: #000000;\n",
       "}\n",
       "#T_436a5_row7_col6 {\n",
       "  background-color: #eafa65;\n",
       "  color: #000000;\n",
       "}\n",
       "#T_436a5_row7_col8, #T_436a5_row9_col4 {\n",
       "  background-color: #fceb26;\n",
       "  color: #000000;\n",
       "}\n",
       "#T_436a5_row8_col0 {\n",
       "  background-color: #ffaf00;\n",
       "  color: #000000;\n",
       "}\n",
       "#T_436a5_row8_col2 {\n",
       "  background-color: #e8fb6b;\n",
       "  color: #000000;\n",
       "}\n",
       "#T_436a5_row8_col4 {\n",
       "  background-color: #e8fc6c;\n",
       "  color: #000000;\n",
       "}\n",
       "#T_436a5_row8_col7 {\n",
       "  background-color: #ffe619;\n",
       "  color: #000000;\n",
       "}\n",
       "#T_436a5_row8_col9 {\n",
       "  background-color: #ffca08;\n",
       "  color: #000000;\n",
       "}\n",
       "#T_436a5_row9_col1 {\n",
       "  background-color: #f9ed30;\n",
       "  color: #000000;\n",
       "}\n",
       "#T_436a5_row9_col2 {\n",
       "  background-color: #ebf960;\n",
       "  color: #000000;\n",
       "}\n",
       "</style>\n",
       "<table id=\"T_436a5\">\n",
       "  <thead>\n",
       "    <tr>\n",
       "      <th class=\"blank level0\" >&nbsp;</th>\n",
       "      <th id=\"T_436a5_level0_col0\" class=\"col_heading level0 col0\" >Beats.Per.Minute</th>\n",
       "      <th id=\"T_436a5_level0_col1\" class=\"col_heading level0 col1\" >Energy</th>\n",
       "      <th id=\"T_436a5_level0_col2\" class=\"col_heading level0 col2\" >Danceability</th>\n",
       "      <th id=\"T_436a5_level0_col3\" class=\"col_heading level0 col3\" >Loudness..dB..</th>\n",
       "      <th id=\"T_436a5_level0_col4\" class=\"col_heading level0 col4\" >Liveness</th>\n",
       "      <th id=\"T_436a5_level0_col5\" class=\"col_heading level0 col5\" >Valence.</th>\n",
       "      <th id=\"T_436a5_level0_col6\" class=\"col_heading level0 col6\" >Length.</th>\n",
       "      <th id=\"T_436a5_level0_col7\" class=\"col_heading level0 col7\" >Acousticness..</th>\n",
       "      <th id=\"T_436a5_level0_col8\" class=\"col_heading level0 col8\" >Speechiness.</th>\n",
       "      <th id=\"T_436a5_level0_col9\" class=\"col_heading level0 col9\" >Popularity</th>\n",
       "    </tr>\n",
       "  </thead>\n",
       "  <tbody>\n",
       "    <tr>\n",
       "      <th id=\"T_436a5_level0_row0\" class=\"row_heading level0 row0\" >Beats.Per.Minute</th>\n",
       "      <td id=\"T_436a5_row0_col0\" class=\"data row0 col0\" >1.000000</td>\n",
       "      <td id=\"T_436a5_row0_col1\" class=\"data row0 col1\" >0.043756</td>\n",
       "      <td id=\"T_436a5_row0_col2\" class=\"data row0 col2\" >-0.094183</td>\n",
       "      <td id=\"T_436a5_row0_col3\" class=\"data row0 col3\" >0.017016</td>\n",
       "      <td id=\"T_436a5_row0_col4\" class=\"data row0 col4\" >-0.167286</td>\n",
       "      <td id=\"T_436a5_row0_col5\" class=\"data row0 col5\" >-0.011586</td>\n",
       "      <td id=\"T_436a5_row0_col6\" class=\"data row0 col6\" >-0.139288</td>\n",
       "      <td id=\"T_436a5_row0_col7\" class=\"data row0 col7\" >-0.031450</td>\n",
       "      <td id=\"T_436a5_row0_col8\" class=\"data row0 col8\" >0.557052</td>\n",
       "      <td id=\"T_436a5_row0_col9\" class=\"data row0 col9\" >0.196097</td>\n",
       "    </tr>\n",
       "    <tr>\n",
       "      <th id=\"T_436a5_level0_row1\" class=\"row_heading level0 row1\" >Energy</th>\n",
       "      <td id=\"T_436a5_row1_col0\" class=\"data row1 col0\" >0.043756</td>\n",
       "      <td id=\"T_436a5_row1_col1\" class=\"data row1 col1\" >1.000000</td>\n",
       "      <td id=\"T_436a5_row1_col2\" class=\"data row1 col2\" >0.018254</td>\n",
       "      <td id=\"T_436a5_row1_col3\" class=\"data row1 col3\" >0.670794</td>\n",
       "      <td id=\"T_436a5_row1_col4\" class=\"data row1 col4\" >0.162768</td>\n",
       "      <td id=\"T_436a5_row1_col5\" class=\"data row1 col5\" >0.438820</td>\n",
       "      <td id=\"T_436a5_row1_col6\" class=\"data row1 col6\" >0.224677</td>\n",
       "      <td id=\"T_436a5_row1_col7\" class=\"data row1 col7\" >-0.339892</td>\n",
       "      <td id=\"T_436a5_row1_col8\" class=\"data row1 col8\" >-0.089860</td>\n",
       "      <td id=\"T_436a5_row1_col9\" class=\"data row1 col9\" >-0.080295</td>\n",
       "    </tr>\n",
       "    <tr>\n",
       "      <th id=\"T_436a5_level0_row2\" class=\"row_heading level0 row2\" >Danceability</th>\n",
       "      <td id=\"T_436a5_row2_col0\" class=\"data row2 col0\" >-0.094183</td>\n",
       "      <td id=\"T_436a5_row2_col1\" class=\"data row2 col1\" >0.018254</td>\n",
       "      <td id=\"T_436a5_row2_col2\" class=\"data row2 col2\" >1.000000</td>\n",
       "      <td id=\"T_436a5_row2_col3\" class=\"data row2 col3\" >0.016255</td>\n",
       "      <td id=\"T_436a5_row2_col4\" class=\"data row2 col4\" >-0.149636</td>\n",
       "      <td id=\"T_436a5_row2_col5\" class=\"data row2 col5\" >0.172829</td>\n",
       "      <td id=\"T_436a5_row2_col6\" class=\"data row2 col6\" >-0.000185</td>\n",
       "      <td id=\"T_436a5_row2_col7\" class=\"data row2 col7\" >-0.098165</td>\n",
       "      <td id=\"T_436a5_row2_col8\" class=\"data row2 col8\" >-0.103472</td>\n",
       "      <td id=\"T_436a5_row2_col9\" class=\"data row2 col9\" >-0.071413</td>\n",
       "    </tr>\n",
       "    <tr>\n",
       "      <th id=\"T_436a5_level0_row3\" class=\"row_heading level0 row3\" >Loudness..dB..</th>\n",
       "      <td id=\"T_436a5_row3_col0\" class=\"data row3 col0\" >0.017016</td>\n",
       "      <td id=\"T_436a5_row3_col1\" class=\"data row3 col1\" >0.670794</td>\n",
       "      <td id=\"T_436a5_row3_col2\" class=\"data row3 col2\" >0.016255</td>\n",
       "      <td id=\"T_436a5_row3_col3\" class=\"data row3 col3\" >1.000000</td>\n",
       "      <td id=\"T_436a5_row3_col4\" class=\"data row3 col4\" >0.258652</td>\n",
       "      <td id=\"T_436a5_row3_col5\" class=\"data row3 col5\" >0.237614</td>\n",
       "      <td id=\"T_436a5_row3_col6\" class=\"data row3 col6\" >0.219219</td>\n",
       "      <td id=\"T_436a5_row3_col7\" class=\"data row3 col7\" >-0.138300</td>\n",
       "      <td id=\"T_436a5_row3_col8\" class=\"data row3 col8\" >-0.272213</td>\n",
       "      <td id=\"T_436a5_row3_col9\" class=\"data row3 col9\" >-0.043085</td>\n",
       "    </tr>\n",
       "    <tr>\n",
       "      <th id=\"T_436a5_level0_row4\" class=\"row_heading level0 row4\" >Liveness</th>\n",
       "      <td id=\"T_436a5_row4_col0\" class=\"data row4 col0\" >-0.167286</td>\n",
       "      <td id=\"T_436a5_row4_col1\" class=\"data row4 col1\" >0.162768</td>\n",
       "      <td id=\"T_436a5_row4_col2\" class=\"data row4 col2\" >-0.149636</td>\n",
       "      <td id=\"T_436a5_row4_col3\" class=\"data row4 col3\" >0.258652</td>\n",
       "      <td id=\"T_436a5_row4_col4\" class=\"data row4 col4\" >1.000000</td>\n",
       "      <td id=\"T_436a5_row4_col5\" class=\"data row4 col5\" >0.016123</td>\n",
       "      <td id=\"T_436a5_row4_col6\" class=\"data row4 col6\" >0.131782</td>\n",
       "      <td id=\"T_436a5_row4_col7\" class=\"data row4 col7\" >0.021328</td>\n",
       "      <td id=\"T_436a5_row4_col8\" class=\"data row4 col8\" >-0.125286</td>\n",
       "      <td id=\"T_436a5_row4_col9\" class=\"data row4 col9\" >0.092564</td>\n",
       "    </tr>\n",
       "    <tr>\n",
       "      <th id=\"T_436a5_level0_row5\" class=\"row_heading level0 row5\" >Valence.</th>\n",
       "      <td id=\"T_436a5_row5_col0\" class=\"data row5 col0\" >-0.011586</td>\n",
       "      <td id=\"T_436a5_row5_col1\" class=\"data row5 col1\" >0.438820</td>\n",
       "      <td id=\"T_436a5_row5_col2\" class=\"data row5 col2\" >0.172829</td>\n",
       "      <td id=\"T_436a5_row5_col3\" class=\"data row5 col3\" >0.237614</td>\n",
       "      <td id=\"T_436a5_row5_col4\" class=\"data row5 col4\" >0.016123</td>\n",
       "      <td id=\"T_436a5_row5_col5\" class=\"data row5 col5\" >1.000000</td>\n",
       "      <td id=\"T_436a5_row5_col6\" class=\"data row5 col6\" >-0.017782</td>\n",
       "      <td id=\"T_436a5_row5_col7\" class=\"data row5 col7\" >-0.052323</td>\n",
       "      <td id=\"T_436a5_row5_col8\" class=\"data row5 col8\" >-0.053242</td>\n",
       "      <td id=\"T_436a5_row5_col9\" class=\"data row5 col9\" >-0.317752</td>\n",
       "    </tr>\n",
       "    <tr>\n",
       "      <th id=\"T_436a5_level0_row6\" class=\"row_heading level0 row6\" >Length.</th>\n",
       "      <td id=\"T_436a5_row6_col0\" class=\"data row6 col0\" >-0.139288</td>\n",
       "      <td id=\"T_436a5_row6_col1\" class=\"data row6 col1\" >0.224677</td>\n",
       "      <td id=\"T_436a5_row6_col2\" class=\"data row6 col2\" >-0.000185</td>\n",
       "      <td id=\"T_436a5_row6_col3\" class=\"data row6 col3\" >0.219219</td>\n",
       "      <td id=\"T_436a5_row6_col4\" class=\"data row6 col4\" >0.131782</td>\n",
       "      <td id=\"T_436a5_row6_col5\" class=\"data row6 col5\" >-0.017782</td>\n",
       "      <td id=\"T_436a5_row6_col6\" class=\"data row6 col6\" >1.000000</td>\n",
       "      <td id=\"T_436a5_row6_col7\" class=\"data row6 col7\" >-0.076293</td>\n",
       "      <td id=\"T_436a5_row6_col8\" class=\"data row6 col8\" >0.046755</td>\n",
       "      <td id=\"T_436a5_row6_col9\" class=\"data row6 col9\" >-0.087639</td>\n",
       "    </tr>\n",
       "    <tr>\n",
       "      <th id=\"T_436a5_level0_row7\" class=\"row_heading level0 row7\" >Acousticness..</th>\n",
       "      <td id=\"T_436a5_row7_col0\" class=\"data row7 col0\" >-0.031450</td>\n",
       "      <td id=\"T_436a5_row7_col1\" class=\"data row7 col1\" >-0.339892</td>\n",
       "      <td id=\"T_436a5_row7_col2\" class=\"data row7 col2\" >-0.098165</td>\n",
       "      <td id=\"T_436a5_row7_col3\" class=\"data row7 col3\" >-0.138300</td>\n",
       "      <td id=\"T_436a5_row7_col4\" class=\"data row7 col4\" >0.021328</td>\n",
       "      <td id=\"T_436a5_row7_col5\" class=\"data row7 col5\" >-0.052323</td>\n",
       "      <td id=\"T_436a5_row7_col6\" class=\"data row7 col6\" >-0.076293</td>\n",
       "      <td id=\"T_436a5_row7_col7\" class=\"data row7 col7\" >1.000000</td>\n",
       "      <td id=\"T_436a5_row7_col8\" class=\"data row7 col8\" >0.008293</td>\n",
       "      <td id=\"T_436a5_row7_col9\" class=\"data row7 col9\" >-0.034684</td>\n",
       "    </tr>\n",
       "    <tr>\n",
       "      <th id=\"T_436a5_level0_row8\" class=\"row_heading level0 row8\" >Speechiness.</th>\n",
       "      <td id=\"T_436a5_row8_col0\" class=\"data row8 col0\" >0.557052</td>\n",
       "      <td id=\"T_436a5_row8_col1\" class=\"data row8 col1\" >-0.089860</td>\n",
       "      <td id=\"T_436a5_row8_col2\" class=\"data row8 col2\" >-0.103472</td>\n",
       "      <td id=\"T_436a5_row8_col3\" class=\"data row8 col3\" >-0.272213</td>\n",
       "      <td id=\"T_436a5_row8_col4\" class=\"data row8 col4\" >-0.125286</td>\n",
       "      <td id=\"T_436a5_row8_col5\" class=\"data row8 col5\" >-0.053242</td>\n",
       "      <td id=\"T_436a5_row8_col6\" class=\"data row8 col6\" >0.046755</td>\n",
       "      <td id=\"T_436a5_row8_col7\" class=\"data row8 col7\" >0.008293</td>\n",
       "      <td id=\"T_436a5_row8_col8\" class=\"data row8 col8\" >1.000000</td>\n",
       "      <td id=\"T_436a5_row8_col9\" class=\"data row8 col9\" >0.238553</td>\n",
       "    </tr>\n",
       "    <tr>\n",
       "      <th id=\"T_436a5_level0_row9\" class=\"row_heading level0 row9\" >Popularity</th>\n",
       "      <td id=\"T_436a5_row9_col0\" class=\"data row9 col0\" >0.196097</td>\n",
       "      <td id=\"T_436a5_row9_col1\" class=\"data row9 col1\" >-0.080295</td>\n",
       "      <td id=\"T_436a5_row9_col2\" class=\"data row9 col2\" >-0.071413</td>\n",
       "      <td id=\"T_436a5_row9_col3\" class=\"data row9 col3\" >-0.043085</td>\n",
       "      <td id=\"T_436a5_row9_col4\" class=\"data row9 col4\" >0.092564</td>\n",
       "      <td id=\"T_436a5_row9_col5\" class=\"data row9 col5\" >-0.317752</td>\n",
       "      <td id=\"T_436a5_row9_col6\" class=\"data row9 col6\" >-0.087639</td>\n",
       "      <td id=\"T_436a5_row9_col7\" class=\"data row9 col7\" >-0.034684</td>\n",
       "      <td id=\"T_436a5_row9_col8\" class=\"data row9 col8\" >0.238553</td>\n",
       "      <td id=\"T_436a5_row9_col9\" class=\"data row9 col9\" >1.000000</td>\n",
       "    </tr>\n",
       "  </tbody>\n",
       "</table>\n"
      ],
      "text/plain": [
       "<pandas.io.formats.style.Styler at 0x2290733d790>"
      ]
     },
     "execution_count": 12,
     "metadata": {},
     "output_type": "execute_result"
    }
   ],
   "source": [
    "# Check correlation of the features by Pearson correlation\n",
    "(df\n",
    " .corr()\n",
    " .style\n",
    " .background_gradient(cmap=\"Wistia\")\n",
    ")"
   ]
  },
  {
   "attachments": {},
   "cell_type": "markdown",
   "metadata": {},
   "source": [
    "We have some high correlation between \"Beats.per.minute\" and \"Speechiness\", \"Energy\" and \"Loudness\", \"Energy\" and \"Valence\""
   ]
  },
  {
   "attachments": {},
   "cell_type": "markdown",
   "metadata": {},
   "source": [
    "We can try another type of correlation, the Spearman correlation"
   ]
  },
  {
   "cell_type": "code",
   "execution_count": 13,
   "metadata": {},
   "outputs": [
    {
     "data": {
      "text/html": [
       "<style type=\"text/css\">\n",
       "#T_19ef8_row0_col0, #T_19ef8_row1_col1, #T_19ef8_row2_col2, #T_19ef8_row3_col3, #T_19ef8_row4_col4, #T_19ef8_row5_col5, #T_19ef8_row6_col6, #T_19ef8_row7_col7, #T_19ef8_row8_col8, #T_19ef8_row9_col9 {\n",
       "  background-color: #fc7f00;\n",
       "  color: #f1f1f1;\n",
       "}\n",
       "#T_19ef8_row0_col1, #T_19ef8_row4_col1 {\n",
       "  background-color: #f8ee33;\n",
       "  color: #000000;\n",
       "}\n",
       "#T_19ef8_row0_col2, #T_19ef8_row2_col1, #T_19ef8_row7_col8, #T_19ef8_row8_col5 {\n",
       "  background-color: #f2f347;\n",
       "  color: #000000;\n",
       "}\n",
       "#T_19ef8_row0_col3 {\n",
       "  background-color: #ecf95f;\n",
       "  color: #000000;\n",
       "}\n",
       "#T_19ef8_row0_col4, #T_19ef8_row8_col6 {\n",
       "  background-color: #f7ee35;\n",
       "  color: #000000;\n",
       "}\n",
       "#T_19ef8_row0_col5, #T_19ef8_row1_col2, #T_19ef8_row6_col7 {\n",
       "  background-color: #f6ef39;\n",
       "  color: #000000;\n",
       "}\n",
       "#T_19ef8_row0_col6, #T_19ef8_row1_col7, #T_19ef8_row2_col4, #T_19ef8_row4_col2, #T_19ef8_row4_col8, #T_19ef8_row5_col9, #T_19ef8_row6_col0, #T_19ef8_row7_col1, #T_19ef8_row8_col3, #T_19ef8_row9_col5 {\n",
       "  background-color: #e4ff7a;\n",
       "  color: #000000;\n",
       "}\n",
       "#T_19ef8_row0_col7, #T_19ef8_row4_col3, #T_19ef8_row7_col5 {\n",
       "  background-color: #f6f03b;\n",
       "  color: #000000;\n",
       "}\n",
       "#T_19ef8_row0_col8 {\n",
       "  background-color: #ffc303;\n",
       "  color: #000000;\n",
       "}\n",
       "#T_19ef8_row0_col9 {\n",
       "  background-color: #ffd20c;\n",
       "  color: #000000;\n",
       "}\n",
       "#T_19ef8_row1_col0, #T_19ef8_row3_col0 {\n",
       "  background-color: #f7ef36;\n",
       "  color: #000000;\n",
       "}\n",
       "#T_19ef8_row1_col3 {\n",
       "  background-color: #ffab00;\n",
       "  color: #000000;\n",
       "}\n",
       "#T_19ef8_row1_col4, #T_19ef8_row4_col9, #T_19ef8_row9_col4 {\n",
       "  background-color: #fbeb27;\n",
       "  color: #000000;\n",
       "}\n",
       "#T_19ef8_row1_col5 {\n",
       "  background-color: #ffb400;\n",
       "  color: #000000;\n",
       "}\n",
       "#T_19ef8_row1_col6 {\n",
       "  background-color: #ffdc13;\n",
       "  color: #000000;\n",
       "}\n",
       "#T_19ef8_row1_col8, #T_19ef8_row2_col0 {\n",
       "  background-color: #edf759;\n",
       "  color: #000000;\n",
       "}\n",
       "#T_19ef8_row1_col9 {\n",
       "  background-color: #f7ef38;\n",
       "  color: #000000;\n",
       "}\n",
       "#T_19ef8_row2_col3, #T_19ef8_row2_col7 {\n",
       "  background-color: #ebf960;\n",
       "  color: #000000;\n",
       "}\n",
       "#T_19ef8_row2_col5, #T_19ef8_row5_col2, #T_19ef8_row6_col1 {\n",
       "  background-color: #ffda12;\n",
       "  color: #000000;\n",
       "}\n",
       "#T_19ef8_row2_col6, #T_19ef8_row2_col9, #T_19ef8_row5_col6, #T_19ef8_row8_col4 {\n",
       "  background-color: #eff654;\n",
       "  color: #000000;\n",
       "}\n",
       "#T_19ef8_row2_col8, #T_19ef8_row3_col2, #T_19ef8_row6_col3 {\n",
       "  background-color: #fbec29;\n",
       "  color: #000000;\n",
       "}\n",
       "#T_19ef8_row3_col1 {\n",
       "  background-color: #ffa600;\n",
       "  color: #000000;\n",
       "}\n",
       "#T_19ef8_row3_col4 {\n",
       "  background-color: #ffe015;\n",
       "  color: #000000;\n",
       "}\n",
       "#T_19ef8_row3_col5 {\n",
       "  background-color: #ffc404;\n",
       "  color: #000000;\n",
       "}\n",
       "#T_19ef8_row3_col6 {\n",
       "  background-color: #ffdf15;\n",
       "  color: #000000;\n",
       "}\n",
       "#T_19ef8_row3_col7 {\n",
       "  background-color: #f3f244;\n",
       "  color: #000000;\n",
       "}\n",
       "#T_19ef8_row3_col8, #T_19ef8_row9_col6 {\n",
       "  background-color: #ebf962;\n",
       "  color: #000000;\n",
       "}\n",
       "#T_19ef8_row3_col9, #T_19ef8_row9_col8 {\n",
       "  background-color: #ffe518;\n",
       "  color: #000000;\n",
       "}\n",
       "#T_19ef8_row4_col0, #T_19ef8_row6_col8, #T_19ef8_row9_col1 {\n",
       "  background-color: #f3f245;\n",
       "  color: #000000;\n",
       "}\n",
       "#T_19ef8_row4_col5, #T_19ef8_row5_col4 {\n",
       "  background-color: #eafa63;\n",
       "  color: #000000;\n",
       "}\n",
       "#T_19ef8_row4_col6 {\n",
       "  background-color: #ffda11;\n",
       "  color: #000000;\n",
       "}\n",
       "#T_19ef8_row4_col7, #T_19ef8_row8_col9 {\n",
       "  background-color: #ffd811;\n",
       "  color: #000000;\n",
       "}\n",
       "#T_19ef8_row5_col0, #T_19ef8_row9_col3 {\n",
       "  background-color: #f2f34a;\n",
       "  color: #000000;\n",
       "}\n",
       "#T_19ef8_row5_col1 {\n",
       "  background-color: #ffb600;\n",
       "  color: #000000;\n",
       "}\n",
       "#T_19ef8_row5_col3 {\n",
       "  background-color: #ffd60f;\n",
       "  color: #000000;\n",
       "}\n",
       "#T_19ef8_row5_col7 {\n",
       "  background-color: #f2f348;\n",
       "  color: #000000;\n",
       "}\n",
       "#T_19ef8_row5_col8 {\n",
       "  background-color: #e8fc6c;\n",
       "  color: #000000;\n",
       "}\n",
       "#T_19ef8_row6_col2, #T_19ef8_row6_col5, #T_19ef8_row8_col1 {\n",
       "  background-color: #f4f242;\n",
       "  color: #000000;\n",
       "}\n",
       "#T_19ef8_row6_col4, #T_19ef8_row7_col4 {\n",
       "  background-color: #ffd40e;\n",
       "  color: #000000;\n",
       "}\n",
       "#T_19ef8_row6_col9 {\n",
       "  background-color: #f0f550;\n",
       "  color: #000000;\n",
       "}\n",
       "#T_19ef8_row7_col0 {\n",
       "  background-color: #f5f13e;\n",
       "  color: #000000;\n",
       "}\n",
       "#T_19ef8_row7_col2 {\n",
       "  background-color: #eff551;\n",
       "  color: #000000;\n",
       "}\n",
       "#T_19ef8_row7_col3 {\n",
       "  background-color: #e6fd72;\n",
       "  color: #000000;\n",
       "}\n",
       "#T_19ef8_row7_col6 {\n",
       "  background-color: #f5f03c;\n",
       "  color: #000000;\n",
       "}\n",
       "#T_19ef8_row7_col9 {\n",
       "  background-color: #fde920;\n",
       "  color: #000000;\n",
       "}\n",
       "#T_19ef8_row8_col0 {\n",
       "  background-color: #ffbe01;\n",
       "  color: #000000;\n",
       "}\n",
       "#T_19ef8_row8_col2 {\n",
       "  background-color: #ffe116;\n",
       "  color: #000000;\n",
       "}\n",
       "#T_19ef8_row8_col7 {\n",
       "  background-color: #f8ee32;\n",
       "  color: #000000;\n",
       "}\n",
       "#T_19ef8_row9_col0 {\n",
       "  background-color: #ffd810;\n",
       "  color: #000000;\n",
       "}\n",
       "#T_19ef8_row9_col2 {\n",
       "  background-color: #eef656;\n",
       "  color: #000000;\n",
       "}\n",
       "#T_19ef8_row9_col7 {\n",
       "  background-color: #faec2c;\n",
       "  color: #000000;\n",
       "}\n",
       "</style>\n",
       "<table id=\"T_19ef8\">\n",
       "  <thead>\n",
       "    <tr>\n",
       "      <th class=\"blank level0\" >&nbsp;</th>\n",
       "      <th id=\"T_19ef8_level0_col0\" class=\"col_heading level0 col0\" >Beats.Per.Minute</th>\n",
       "      <th id=\"T_19ef8_level0_col1\" class=\"col_heading level0 col1\" >Energy</th>\n",
       "      <th id=\"T_19ef8_level0_col2\" class=\"col_heading level0 col2\" >Danceability</th>\n",
       "      <th id=\"T_19ef8_level0_col3\" class=\"col_heading level0 col3\" >Loudness..dB..</th>\n",
       "      <th id=\"T_19ef8_level0_col4\" class=\"col_heading level0 col4\" >Liveness</th>\n",
       "      <th id=\"T_19ef8_level0_col5\" class=\"col_heading level0 col5\" >Valence.</th>\n",
       "      <th id=\"T_19ef8_level0_col6\" class=\"col_heading level0 col6\" >Length.</th>\n",
       "      <th id=\"T_19ef8_level0_col7\" class=\"col_heading level0 col7\" >Acousticness..</th>\n",
       "      <th id=\"T_19ef8_level0_col8\" class=\"col_heading level0 col8\" >Speechiness.</th>\n",
       "      <th id=\"T_19ef8_level0_col9\" class=\"col_heading level0 col9\" >Popularity</th>\n",
       "    </tr>\n",
       "  </thead>\n",
       "  <tbody>\n",
       "    <tr>\n",
       "      <th id=\"T_19ef8_level0_row0\" class=\"row_heading level0 row0\" >Beats.Per.Minute</th>\n",
       "      <td id=\"T_19ef8_row0_col0\" class=\"data row0 col0\" >1.000000</td>\n",
       "      <td id=\"T_19ef8_row0_col1\" class=\"data row0 col1\" >0.012491</td>\n",
       "      <td id=\"T_19ef8_row0_col2\" class=\"data row0 col2\" >-0.092086</td>\n",
       "      <td id=\"T_19ef8_row0_col3\" class=\"data row0 col3\" >0.013771</td>\n",
       "      <td id=\"T_19ef8_row0_col4\" class=\"data row0 col4\" >-0.032899</td>\n",
       "      <td id=\"T_19ef8_row0_col5\" class=\"data row0 col5\" >-0.048304</td>\n",
       "      <td id=\"T_19ef8_row0_col6\" class=\"data row0 col6\" >-0.198159</td>\n",
       "      <td id=\"T_19ef8_row0_col7\" class=\"data row0 col7\" >-0.010390</td>\n",
       "      <td id=\"T_19ef8_row0_col8\" class=\"data row0 col8\" >0.391641</td>\n",
       "      <td id=\"T_19ef8_row0_col9\" class=\"data row0 col9\" >0.217002</td>\n",
       "    </tr>\n",
       "    <tr>\n",
       "      <th id=\"T_19ef8_level0_row1\" class=\"row_heading level0 row1\" >Energy</th>\n",
       "      <td id=\"T_19ef8_row1_col0\" class=\"data row1 col0\" >0.012491</td>\n",
       "      <td id=\"T_19ef8_row1_col1\" class=\"data row1 col1\" >1.000000</td>\n",
       "      <td id=\"T_19ef8_row1_col2\" class=\"data row1 col2\" >-0.048890</td>\n",
       "      <td id=\"T_19ef8_row1_col3\" class=\"data row1 col3\" >0.635464</td>\n",
       "      <td id=\"T_19ef8_row1_col4\" class=\"data row1 col4\" >0.013355</td>\n",
       "      <td id=\"T_19ef8_row1_col5\" class=\"data row1 col5\" >0.466911</td>\n",
       "      <td id=\"T_19ef8_row1_col6\" class=\"data row1 col6\" >0.188935</td>\n",
       "      <td id=\"T_19ef8_row1_col7\" class=\"data row1 col7\" >-0.211494</td>\n",
       "      <td id=\"T_19ef8_row1_col8\" class=\"data row1 col8\" >-0.034860</td>\n",
       "      <td id=\"T_19ef8_row1_col9\" class=\"data row1 col9\" >-0.044186</td>\n",
       "    </tr>\n",
       "    <tr>\n",
       "      <th id=\"T_19ef8_level0_row2\" class=\"row_heading level0 row2\" >Danceability</th>\n",
       "      <td id=\"T_19ef8_row2_col0\" class=\"data row2 col0\" >-0.092086</td>\n",
       "      <td id=\"T_19ef8_row2_col1\" class=\"data row2 col1\" >-0.048890</td>\n",
       "      <td id=\"T_19ef8_row2_col2\" class=\"data row2 col2\" >1.000000</td>\n",
       "      <td id=\"T_19ef8_row2_col3\" class=\"data row2 col3\" >0.009268</td>\n",
       "      <td id=\"T_19ef8_row2_col4\" class=\"data row2 col4\" >-0.261500</td>\n",
       "      <td id=\"T_19ef8_row2_col5\" class=\"data row2 col5\" >0.154821</td>\n",
       "      <td id=\"T_19ef8_row2_col6\" class=\"data row2 col6\" >-0.078659</td>\n",
       "      <td id=\"T_19ef8_row2_col7\" class=\"data row2 col7\" >-0.127963</td>\n",
       "      <td id=\"T_19ef8_row2_col8\" class=\"data row2 col8\" >0.103832</td>\n",
       "      <td id=\"T_19ef8_row2_col9\" class=\"data row2 col9\" >-0.140960</td>\n",
       "    </tr>\n",
       "    <tr>\n",
       "      <th id=\"T_19ef8_level0_row3\" class=\"row_heading level0 row3\" >Loudness..dB..</th>\n",
       "      <td id=\"T_19ef8_row3_col0\" class=\"data row3 col0\" >0.013771</td>\n",
       "      <td id=\"T_19ef8_row3_col1\" class=\"data row3 col1\" >0.635464</td>\n",
       "      <td id=\"T_19ef8_row3_col2\" class=\"data row3 col2\" >0.009268</td>\n",
       "      <td id=\"T_19ef8_row3_col3\" class=\"data row3 col3\" >1.000000</td>\n",
       "      <td id=\"T_19ef8_row3_col4\" class=\"data row3 col4\" >0.113606</td>\n",
       "      <td id=\"T_19ef8_row3_col5\" class=\"data row3 col5\" >0.317048</td>\n",
       "      <td id=\"T_19ef8_row3_col6\" class=\"data row3 col6\" >0.164729</td>\n",
       "      <td id=\"T_19ef8_row3_col7\" class=\"data row3 col7\" >-0.040145</td>\n",
       "      <td id=\"T_19ef8_row3_col8\" class=\"data row3 col8\" >-0.063160</td>\n",
       "      <td id=\"T_19ef8_row3_col9\" class=\"data row3 col9\" >0.072366</td>\n",
       "    </tr>\n",
       "    <tr>\n",
       "      <th id=\"T_19ef8_level0_row4\" class=\"row_heading level0 row4\" >Liveness</th>\n",
       "      <td id=\"T_19ef8_row4_col0\" class=\"data row4 col0\" >-0.032899</td>\n",
       "      <td id=\"T_19ef8_row4_col1\" class=\"data row4 col1\" >0.013355</td>\n",
       "      <td id=\"T_19ef8_row4_col2\" class=\"data row4 col2\" >-0.261500</td>\n",
       "      <td id=\"T_19ef8_row4_col3\" class=\"data row4 col3\" >0.113606</td>\n",
       "      <td id=\"T_19ef8_row4_col4\" class=\"data row4 col4\" >1.000000</td>\n",
       "      <td id=\"T_19ef8_row4_col5\" class=\"data row4 col5\" >-0.186640</td>\n",
       "      <td id=\"T_19ef8_row4_col6\" class=\"data row4 col6\" >0.201778</td>\n",
       "      <td id=\"T_19ef8_row4_col7\" class=\"data row4 col7\" >0.203657</td>\n",
       "      <td id=\"T_19ef8_row4_col8\" class=\"data row4 col8\" >-0.136935</td>\n",
       "      <td id=\"T_19ef8_row4_col9\" class=\"data row4 col9\" >0.012037</td>\n",
       "    </tr>\n",
       "    <tr>\n",
       "      <th id=\"T_19ef8_level0_row5\" class=\"row_heading level0 row5\" >Valence.</th>\n",
       "      <td id=\"T_19ef8_row5_col0\" class=\"data row5 col0\" >-0.048304</td>\n",
       "      <td id=\"T_19ef8_row5_col1\" class=\"data row5 col1\" >0.466911</td>\n",
       "      <td id=\"T_19ef8_row5_col2\" class=\"data row5 col2\" >0.154821</td>\n",
       "      <td id=\"T_19ef8_row5_col3\" class=\"data row5 col3\" >0.317048</td>\n",
       "      <td id=\"T_19ef8_row5_col4\" class=\"data row5 col4\" >-0.186640</td>\n",
       "      <td id=\"T_19ef8_row5_col5\" class=\"data row5 col5\" >1.000000</td>\n",
       "      <td id=\"T_19ef8_row5_col6\" class=\"data row5 col6\" >-0.081093</td>\n",
       "      <td id=\"T_19ef8_row5_col7\" class=\"data row5 col7\" >-0.053447</td>\n",
       "      <td id=\"T_19ef8_row5_col8\" class=\"data row5 col8\" >-0.094742</td>\n",
       "      <td id=\"T_19ef8_row5_col9\" class=\"data row5 col9\" >-0.264501</td>\n",
       "    </tr>\n",
       "    <tr>\n",
       "      <th id=\"T_19ef8_level0_row6\" class=\"row_heading level0 row6\" >Length.</th>\n",
       "      <td id=\"T_19ef8_row6_col0\" class=\"data row6 col0\" >-0.198159</td>\n",
       "      <td id=\"T_19ef8_row6_col1\" class=\"data row6 col1\" >0.188935</td>\n",
       "      <td id=\"T_19ef8_row6_col2\" class=\"data row6 col2\" >-0.078659</td>\n",
       "      <td id=\"T_19ef8_row6_col3\" class=\"data row6 col3\" >0.164729</td>\n",
       "      <td id=\"T_19ef8_row6_col4\" class=\"data row6 col4\" >0.201778</td>\n",
       "      <td id=\"T_19ef8_row6_col5\" class=\"data row6 col5\" >-0.081093</td>\n",
       "      <td id=\"T_19ef8_row6_col6\" class=\"data row6 col6\" >1.000000</td>\n",
       "      <td id=\"T_19ef8_row6_col7\" class=\"data row6 col7\" >-0.004734</td>\n",
       "      <td id=\"T_19ef8_row6_col8\" class=\"data row6 col8\" >0.020217</td>\n",
       "      <td id=\"T_19ef8_row6_col9\" class=\"data row6 col9\" >-0.121973</td>\n",
       "    </tr>\n",
       "    <tr>\n",
       "      <th id=\"T_19ef8_level0_row7\" class=\"row_heading level0 row7\" >Acousticness..</th>\n",
       "      <td id=\"T_19ef8_row7_col0\" class=\"data row7 col0\" >-0.010390</td>\n",
       "      <td id=\"T_19ef8_row7_col1\" class=\"data row7 col1\" >-0.211494</td>\n",
       "      <td id=\"T_19ef8_row7_col2\" class=\"data row7 col2\" >-0.127963</td>\n",
       "      <td id=\"T_19ef8_row7_col3\" class=\"data row7 col3\" >-0.040145</td>\n",
       "      <td id=\"T_19ef8_row7_col4\" class=\"data row7 col4\" >0.203657</td>\n",
       "      <td id=\"T_19ef8_row7_col5\" class=\"data row7 col5\" >-0.053447</td>\n",
       "      <td id=\"T_19ef8_row7_col6\" class=\"data row7 col6\" >-0.004734</td>\n",
       "      <td id=\"T_19ef8_row7_col7\" class=\"data row7 col7\" >1.000000</td>\n",
       "      <td id=\"T_19ef8_row7_col8\" class=\"data row7 col8\" >0.016973</td>\n",
       "      <td id=\"T_19ef8_row7_col9\" class=\"data row7 col9\" >0.035626</td>\n",
       "    </tr>\n",
       "    <tr>\n",
       "      <th id=\"T_19ef8_level0_row8\" class=\"row_heading level0 row8\" >Speechiness.</th>\n",
       "      <td id=\"T_19ef8_row8_col0\" class=\"data row8 col0\" >0.391641</td>\n",
       "      <td id=\"T_19ef8_row8_col1\" class=\"data row8 col1\" >-0.034860</td>\n",
       "      <td id=\"T_19ef8_row8_col2\" class=\"data row8 col2\" >0.103832</td>\n",
       "      <td id=\"T_19ef8_row8_col3\" class=\"data row8 col3\" >-0.063160</td>\n",
       "      <td id=\"T_19ef8_row8_col4\" class=\"data row8 col4\" >-0.136935</td>\n",
       "      <td id=\"T_19ef8_row8_col5\" class=\"data row8 col5\" >-0.094742</td>\n",
       "      <td id=\"T_19ef8_row8_col6\" class=\"data row8 col6\" >0.020217</td>\n",
       "      <td id=\"T_19ef8_row8_col7\" class=\"data row8 col7\" >0.016973</td>\n",
       "      <td id=\"T_19ef8_row8_col8\" class=\"data row8 col8\" >1.000000</td>\n",
       "      <td id=\"T_19ef8_row8_col9\" class=\"data row8 col9\" >0.165431</td>\n",
       "    </tr>\n",
       "    <tr>\n",
       "      <th id=\"T_19ef8_level0_row9\" class=\"row_heading level0 row9\" >Popularity</th>\n",
       "      <td id=\"T_19ef8_row9_col0\" class=\"data row9 col0\" >0.217002</td>\n",
       "      <td id=\"T_19ef8_row9_col1\" class=\"data row9 col1\" >-0.044186</td>\n",
       "      <td id=\"T_19ef8_row9_col2\" class=\"data row9 col2\" >-0.140960</td>\n",
       "      <td id=\"T_19ef8_row9_col3\" class=\"data row9 col3\" >0.072366</td>\n",
       "      <td id=\"T_19ef8_row9_col4\" class=\"data row9 col4\" >0.012037</td>\n",
       "      <td id=\"T_19ef8_row9_col5\" class=\"data row9 col5\" >-0.264501</td>\n",
       "      <td id=\"T_19ef8_row9_col6\" class=\"data row9 col6\" >-0.121973</td>\n",
       "      <td id=\"T_19ef8_row9_col7\" class=\"data row9 col7\" >0.035626</td>\n",
       "      <td id=\"T_19ef8_row9_col8\" class=\"data row9 col8\" >0.165431</td>\n",
       "      <td id=\"T_19ef8_row9_col9\" class=\"data row9 col9\" >1.000000</td>\n",
       "    </tr>\n",
       "  </tbody>\n",
       "</table>\n"
      ],
      "text/plain": [
       "<pandas.io.formats.style.Styler at 0x2296e3232d0>"
      ]
     },
     "execution_count": 13,
     "metadata": {},
     "output_type": "execute_result"
    }
   ],
   "source": [
    "# Check correlation of the features by Pearson correlation\n",
    "(df\n",
    " .corr(\"spearman\")\n",
    " .style\n",
    " .background_gradient(cmap=\"Wistia\")\n",
    ")"
   ]
  },
  {
   "cell_type": "code",
   "execution_count": 14,
   "metadata": {},
   "outputs": [
    {
     "data": {
      "text/plain": [
       "<seaborn.axisgrid.PairGrid at 0x2290734e110>"
      ]
     },
     "execution_count": 14,
     "metadata": {},
     "output_type": "execute_result"
    },
    {
     "data": {
      "image/png": "[encoded data removed]",
      "text/plain": [
       "<Figure size 2500x2500 with 110 Axes>"
      ]
     },
     "metadata": {},
     "output_type": "display_data"
    }
   ],
   "source": [
    "# Plot pirwise relationships\n",
    "sns.pairplot(df)"
   ]
  },
  {
   "attachments": {},
   "cell_type": "markdown",
   "metadata": {},
   "source": [
    "Now we can start answer our questions:"
   ]
  },
  {
   "attachments": {},
   "cell_type": "markdown",
   "metadata": {},
   "source": [
    "- Which songs and artists are more popular?\n",
    "\n",
    "The songs and artist names are in the columns \"Track.name\" and \"Artist.name\""
   ]
  },
  {
   "cell_type": "code",
   "execution_count": 15,
   "metadata": {},
   "outputs": [
    {
     "data": {
      "text/plain": [
       "Ed Sheeran          4\n",
       "Shawn Mendes        2\n",
       "Lil Nas X           2\n",
       "J Balvin            2\n",
       "Sech                2\n",
       "Billie Eilish       2\n",
       "The Chainsmokers    2\n",
       "Marshmello          2\n",
       "Post Malone         2\n",
       "Ariana Grande       2\n",
       "ROSALÍA             1\n",
       "Khalid              1\n",
       "Lady Gaga           1\n",
       "Daddy Yankee        1\n",
       "Kygo                1\n",
       "Lauv                1\n",
       "Jonas Brothers      1\n",
       "Martin Garrix       1\n",
       "Katy Perry          1\n",
       "Young Thug          1\n",
       "Maluma              1\n",
       "Taylor Swift        1\n",
       "Jhay Cortez         1\n",
       "Ali Gatie           1\n",
       "Tones and I         1\n",
       "Lunay               1\n",
       "Anuel AA            1\n",
       "MEDUZA              1\n",
       "Lizzo               1\n",
       "Y2K                 1\n",
       "Chris Brown         1\n",
       "Drake               1\n",
       "Lewis Capaldi       1\n",
       "DJ Snake            1\n",
       "Bad Bunny           1\n",
       "Sam Smith           1\n",
       "Lil Tecca           1\n",
       "Nicky Jam           1\n",
       "Name: Artist.Name, dtype: int64"
      ]
     },
     "execution_count": 15,
     "metadata": {},
     "output_type": "execute_result"
    }
   ],
   "source": [
    "# All the artists in the dataset\n",
    "df[\"Artist.Name\"].value_counts()"
   ]
  },
  {
   "attachments": {},
   "cell_type": "markdown",
   "metadata": {},
   "source": [
    "As we can see \"Ed Sheeran\" is the artist with more musics in the dataset"
   ]
  },
  {
   "cell_type": "code",
   "execution_count": 16,
   "metadata": {},
   "outputs": [
    {
     "data": {
      "text/html": [
       "<div>\n",
       "<style scoped>\n",
       "    .dataframe tbody tr th:only-of-type {\n",
       "        vertical-align: middle;\n",
       "    }\n",
       "\n",
       "    .dataframe tbody tr th {\n",
       "        vertical-align: top;\n",
       "    }\n",
       "\n",
       "    .dataframe thead th {\n",
       "        text-align: right;\n",
       "    }\n",
       "</style>\n",
       "<table border=\"1\" class=\"dataframe\">\n",
       "  <thead>\n",
       "    <tr style=\"text-align: right;\">\n",
       "      <th></th>\n",
       "      <th>Track.Name</th>\n",
       "      <th>Artist.Name</th>\n",
       "      <th>Genre</th>\n",
       "      <th>Beats.Per.Minute</th>\n",
       "      <th>Energy</th>\n",
       "      <th>Danceability</th>\n",
       "      <th>Loudness..dB..</th>\n",
       "      <th>Liveness</th>\n",
       "      <th>Valence.</th>\n",
       "      <th>Length.</th>\n",
       "      <th>Acousticness..</th>\n",
       "      <th>Speechiness.</th>\n",
       "      <th>Popularity</th>\n",
       "    </tr>\n",
       "  </thead>\n",
       "  <tbody>\n",
       "    <tr>\n",
       "      <th>9</th>\n",
       "      <td>bad guy</td>\n",
       "      <td>Billie Eilish</td>\n",
       "      <td>electropop</td>\n",
       "      <td>135</td>\n",
       "      <td>43</td>\n",
       "      <td>70</td>\n",
       "      <td>-11</td>\n",
       "      <td>10</td>\n",
       "      <td>56</td>\n",
       "      <td>194</td>\n",
       "      <td>33</td>\n",
       "      <td>38</td>\n",
       "      <td>95</td>\n",
       "    </tr>\n",
       "    <tr>\n",
       "      <th>4</th>\n",
       "      <td>Goodbyes (Feat. Young Thug)</td>\n",
       "      <td>Post Malone</td>\n",
       "      <td>dfw rap</td>\n",
       "      <td>150</td>\n",
       "      <td>65</td>\n",
       "      <td>58</td>\n",
       "      <td>-4</td>\n",
       "      <td>11</td>\n",
       "      <td>18</td>\n",
       "      <td>175</td>\n",
       "      <td>45</td>\n",
       "      <td>7</td>\n",
       "      <td>94</td>\n",
       "    </tr>\n",
       "    <tr>\n",
       "      <th>10</th>\n",
       "      <td>Callaita</td>\n",
       "      <td>Bad Bunny</td>\n",
       "      <td>reggaeton</td>\n",
       "      <td>176</td>\n",
       "      <td>62</td>\n",
       "      <td>61</td>\n",
       "      <td>-5</td>\n",
       "      <td>24</td>\n",
       "      <td>24</td>\n",
       "      <td>251</td>\n",
       "      <td>60</td>\n",
       "      <td>31</td>\n",
       "      <td>93</td>\n",
       "    </tr>\n",
       "    <tr>\n",
       "      <th>1</th>\n",
       "      <td>China</td>\n",
       "      <td>Anuel AA</td>\n",
       "      <td>reggaeton flow</td>\n",
       "      <td>105</td>\n",
       "      <td>81</td>\n",
       "      <td>79</td>\n",
       "      <td>-4</td>\n",
       "      <td>8</td>\n",
       "      <td>61</td>\n",
       "      <td>302</td>\n",
       "      <td>8</td>\n",
       "      <td>9</td>\n",
       "      <td>92</td>\n",
       "    </tr>\n",
       "    <tr>\n",
       "      <th>6</th>\n",
       "      <td>Ransom</td>\n",
       "      <td>Lil Tecca</td>\n",
       "      <td>trap music</td>\n",
       "      <td>180</td>\n",
       "      <td>64</td>\n",
       "      <td>75</td>\n",
       "      <td>-6</td>\n",
       "      <td>7</td>\n",
       "      <td>23</td>\n",
       "      <td>131</td>\n",
       "      <td>2</td>\n",
       "      <td>29</td>\n",
       "      <td>92</td>\n",
       "    </tr>\n",
       "  </tbody>\n",
       "</table>\n",
       "</div>"
      ],
      "text/plain": [
       "                     Track.Name    Artist.Name           Genre  \\\n",
       "9                       bad guy  Billie Eilish      electropop   \n",
       "4   Goodbyes (Feat. Young Thug)    Post Malone         dfw rap   \n",
       "10                     Callaita      Bad Bunny       reggaeton   \n",
       "1                         China       Anuel AA  reggaeton flow   \n",
       "6                        Ransom      Lil Tecca      trap music   \n",
       "\n",
       "    Beats.Per.Minute  Energy  Danceability  Loudness..dB..  Liveness  \\\n",
       "9                135      43            70             -11        10   \n",
       "4                150      65            58              -4        11   \n",
       "10               176      62            61              -5        24   \n",
       "1                105      81            79              -4         8   \n",
       "6                180      64            75              -6         7   \n",
       "\n",
       "    Valence.  Length.  Acousticness..  Speechiness.  Popularity  \n",
       "9         56      194              33            38          95  \n",
       "4         18      175              45             7          94  \n",
       "10        24      251              60            31          93  \n",
       "1         61      302               8             9          92  \n",
       "6         23      131               2            29          92  "
      ]
     },
     "execution_count": 16,
     "metadata": {},
     "output_type": "execute_result"
    }
   ],
   "source": [
    "df.nlargest(5, columns=[\"Popularity\"])"
   ]
  },
  {
   "attachments": {},
   "cell_type": "markdown",
   "metadata": {},
   "source": [
    "We can see that even with the greater number of musics in the dataset, Ed Sheeran's musics isn't in the top 5 popularity musics"
   ]
  },
  {
   "cell_type": "code",
   "execution_count": 17,
   "metadata": {},
   "outputs": [
    {
     "data": {
      "text/html": [
       "<div>\n",
       "<style scoped>\n",
       "    .dataframe tbody tr th:only-of-type {\n",
       "        vertical-align: middle;\n",
       "    }\n",
       "\n",
       "    .dataframe tbody tr th {\n",
       "        vertical-align: top;\n",
       "    }\n",
       "\n",
       "    .dataframe thead th {\n",
       "        text-align: right;\n",
       "    }\n",
       "</style>\n",
       "<table border=\"1\" class=\"dataframe\">\n",
       "  <thead>\n",
       "    <tr style=\"text-align: right;\">\n",
       "      <th></th>\n",
       "      <th>Track.Name</th>\n",
       "      <th>Artist.Name</th>\n",
       "      <th>Genre</th>\n",
       "      <th>Beats.Per.Minute</th>\n",
       "      <th>Energy</th>\n",
       "      <th>Danceability</th>\n",
       "      <th>Loudness..dB..</th>\n",
       "      <th>Liveness</th>\n",
       "      <th>Valence.</th>\n",
       "      <th>Length.</th>\n",
       "      <th>Acousticness..</th>\n",
       "      <th>Speechiness.</th>\n",
       "      <th>Popularity</th>\n",
       "    </tr>\n",
       "  </thead>\n",
       "  <tbody>\n",
       "    <tr>\n",
       "      <th>37</th>\n",
       "      <td>Antisocial (with Travis Scott)</td>\n",
       "      <td>Ed Sheeran</td>\n",
       "      <td>pop</td>\n",
       "      <td>152</td>\n",
       "      <td>82</td>\n",
       "      <td>72</td>\n",
       "      <td>-5</td>\n",
       "      <td>36</td>\n",
       "      <td>91</td>\n",
       "      <td>162</td>\n",
       "      <td>13</td>\n",
       "      <td>5</td>\n",
       "      <td>87</td>\n",
       "    </tr>\n",
       "    <tr>\n",
       "      <th>3</th>\n",
       "      <td>Beautiful People (feat. Khalid)</td>\n",
       "      <td>Ed Sheeran</td>\n",
       "      <td>pop</td>\n",
       "      <td>93</td>\n",
       "      <td>65</td>\n",
       "      <td>64</td>\n",
       "      <td>-8</td>\n",
       "      <td>8</td>\n",
       "      <td>55</td>\n",
       "      <td>198</td>\n",
       "      <td>12</td>\n",
       "      <td>19</td>\n",
       "      <td>86</td>\n",
       "    </tr>\n",
       "    <tr>\n",
       "      <th>5</th>\n",
       "      <td>I Don't Care (with Justin Bieber)</td>\n",
       "      <td>Ed Sheeran</td>\n",
       "      <td>pop</td>\n",
       "      <td>102</td>\n",
       "      <td>68</td>\n",
       "      <td>80</td>\n",
       "      <td>-5</td>\n",
       "      <td>9</td>\n",
       "      <td>84</td>\n",
       "      <td>220</td>\n",
       "      <td>9</td>\n",
       "      <td>4</td>\n",
       "      <td>84</td>\n",
       "    </tr>\n",
       "    <tr>\n",
       "      <th>49</th>\n",
       "      <td>Cross Me (feat. Chance the Rapper &amp; PnB Rock)</td>\n",
       "      <td>Ed Sheeran</td>\n",
       "      <td>pop</td>\n",
       "      <td>95</td>\n",
       "      <td>79</td>\n",
       "      <td>75</td>\n",
       "      <td>-6</td>\n",
       "      <td>7</td>\n",
       "      <td>61</td>\n",
       "      <td>206</td>\n",
       "      <td>21</td>\n",
       "      <td>12</td>\n",
       "      <td>82</td>\n",
       "    </tr>\n",
       "  </tbody>\n",
       "</table>\n",
       "</div>"
      ],
      "text/plain": [
       "                                       Track.Name Artist.Name Genre  \\\n",
       "37                 Antisocial (with Travis Scott)  Ed Sheeran   pop   \n",
       "3                 Beautiful People (feat. Khalid)  Ed Sheeran   pop   \n",
       "5               I Don't Care (with Justin Bieber)  Ed Sheeran   pop   \n",
       "49  Cross Me (feat. Chance the Rapper & PnB Rock)  Ed Sheeran   pop   \n",
       "\n",
       "    Beats.Per.Minute  Energy  Danceability  Loudness..dB..  Liveness  \\\n",
       "37               152      82            72              -5        36   \n",
       "3                 93      65            64              -8         8   \n",
       "5                102      68            80              -5         9   \n",
       "49                95      79            75              -6         7   \n",
       "\n",
       "    Valence.  Length.  Acousticness..  Speechiness.  Popularity  \n",
       "37        91      162              13             5          87  \n",
       "3         55      198              12            19          86  \n",
       "5         84      220               9             4          84  \n",
       "49        61      206              21            12          82  "
      ]
     },
     "execution_count": 17,
     "metadata": {},
     "output_type": "execute_result"
    }
   ],
   "source": [
    "df[(df[\"Artist.Name\"] == \"Ed Sheeran\")].sort_values(by=\"Popularity\",ascending=False)"
   ]
  },
  {
   "attachments": {},
   "cell_type": "markdown",
   "metadata": {},
   "source": [
    "So Ed Sheeran's musics popularity it's between 82 and 87"
   ]
  },
  {
   "cell_type": "code",
   "execution_count": 18,
   "metadata": {},
   "outputs": [],
   "source": [
    "# Create a dataframe to count artists in the dataset\n",
    "df['Count']=1\n",
    "df_artist=df.groupby('Artist.Name')['Count'].sum().reset_index().sort_values(by='Count', ascending=False)"
   ]
  },
  {
   "cell_type": "code",
   "execution_count": 30,
   "metadata": {},
   "outputs": [
    {
     "data": {
      "application/vnd.plotly.v1+json": {
       "config": {
        "plotlyServerURL": "https://plot.ly"
       },
       "data": [
        {
         "alignmentgroup": "True",
         "hovertemplate": "Artist.Name=%{x}<br>Count=%{y}<extra></extra>",
         "legendgroup": "",
         "marker": {
          "color": "#636efa",
          "pattern": {
           "shape": ""
          }
         },
         "name": "",
         "offsetgroup": "",
         "orientation": "v",
         "showlegend": false,
         "textposition": "auto",
         "texttemplate": "%{y}",
         "type": "bar",
         "x": [
          "Ed Sheeran",
          "Lil Nas X",
          "Shawn Mendes",
          "Marshmello",
          "Post Malone",
          "Sech",
          "J Balvin",
          "The Chainsmokers",
          "Billie Eilish",
          "Ariana Grande"
         ],
         "xaxis": "x",
         "y": [
          4,
          2,
          2,
          2,
          2,
          2,
          2,
          2,
          2,
          2
         ],
         "yaxis": "y"
        }
       ],
       "layout": {
        "barmode": "relative",
        "legend": {
         "orientation": "h",
         "tracegroupgap": 0,
         "traceorder": "normal",
         "x": 0,
         "y": 1
        },
        "margin": {
         "b": 0,
         "l": 0,
         "r": 0,
         "t": 30
        },
        "template": {
         "data": {
          "bar": [
           {
            "error_x": {
             "color": "#2a3f5f"
            },
            "error_y": {
             "color": "#2a3f5f"
            },
            "marker": {
             "line": {
              "color": "#E5ECF6",
              "width": 0.5
             },
             "pattern": {
              "fillmode": "overlay",
              "size": 10,
              "solidity": 0.2
             }
            },
            "type": "bar"
           }
          ],
          "barpolar": [
           {
            "marker": {
             "line": {
              "color": "#E5ECF6",
              "width": 0.5
             },
             "pattern": {
              "fillmode": "overlay",
              "size": 10,
              "solidity": 0.2
             }
            },
            "type": "barpolar"
           }
          ],
          "carpet": [
           {
            "aaxis": {
             "endlinecolor": "#2a3f5f",
             "gridcolor": "white",
             "linecolor": "white",
             "minorgridcolor": "white",
             "startlinecolor": "#2a3f5f"
            },
            "baxis": {
             "endlinecolor": "#2a3f5f",
             "gridcolor": "white",
             "linecolor": "white",
             "minorgridcolor": "white",
             "startlinecolor": "#2a3f5f"
            },
            "type": "carpet"
           }
          ],
          "choropleth": [
           {
            "colorbar": {
             "outlinewidth": 0,
             "ticks": ""
            },
            "type": "choropleth"
           }
          ],
          "contour": [
           {
            "colorbar": {
             "outlinewidth": 0,
             "ticks": ""
            },
            "colorscale": [
             [
              0,
              "#0d0887"
             ],
             [
              0.1111111111111111,
              "#46039f"
             ],
             [
              0.2222222222222222,
              "#7201a8"
             ],
             [
              0.3333333333333333,
              "#9c179e"
             ],
             [
              0.4444444444444444,
              "#bd3786"
             ],
             [
              0.5555555555555556,
              "#d8576b"
             ],
             [
              0.6666666666666666,
              "#ed7953"
             ],
             [
              0.7777777777777778,
              "#fb9f3a"
             ],
             [
              0.8888888888888888,
              "#fdca26"
             ],
             [
              1,
              "#f0f921"
             ]
            ],
            "type": "contour"
           }
          ],
          "contourcarpet": [
           {
            "colorbar": {
             "outlinewidth": 0,
             "ticks": ""
            },
            "type": "contourcarpet"
           }
          ],
          "heatmap": [
           {
            "colorbar": {
             "outlinewidth": 0,
             "ticks": ""
            },
            "colorscale": [
             [
              0,
              "#0d0887"
             ],
             [
              0.1111111111111111,
              "#46039f"
             ],
             [
              0.2222222222222222,
              "#7201a8"
             ],
             [
              0.3333333333333333,
              "#9c179e"
             ],
             [
              0.4444444444444444,
              "#bd3786"
             ],
             [
              0.5555555555555556,
              "#d8576b"
             ],
             [
              0.6666666666666666,
              "#ed7953"
             ],
             [
              0.7777777777777778,
              "#fb9f3a"
             ],
             [
              0.8888888888888888,
              "#fdca26"
             ],
             [
              1,
              "#f0f921"
             ]
            ],
            "type": "heatmap"
           }
          ],
          "heatmapgl": [
           {
            "colorbar": {
             "outlinewidth": 0,
             "ticks": ""
            },
            "colorscale": [
             [
              0,
              "#0d0887"
             ],
             [
              0.1111111111111111,
              "#46039f"
             ],
             [
              0.2222222222222222,
              "#7201a8"
             ],
             [
              0.3333333333333333,
              "#9c179e"
             ],
             [
              0.4444444444444444,
              "#bd3786"
             ],
             [
              0.5555555555555556,
              "#d8576b"
             ],
             [
              0.6666666666666666,
              "#ed7953"
             ],
             [
              0.7777777777777778,
              "#fb9f3a"
             ],
             [
              0.8888888888888888,
              "#fdca26"
             ],
             [
              1,
              "#f0f921"
             ]
            ],
            "type": "heatmapgl"
           }
          ],
          "histogram": [
           {
            "marker": {
             "pattern": {
              "fillmode": "overlay",
              "size": 10,
              "solidity": 0.2
             }
            },
            "type": "histogram"
           }
          ],
          "histogram2d": [
           {
            "colorbar": {
             "outlinewidth": 0,
             "ticks": ""
            },
            "colorscale": [
             [
              0,
              "#0d0887"
             ],
             [
              0.1111111111111111,
              "#46039f"
             ],
             [
              0.2222222222222222,
              "#7201a8"
             ],
             [
              0.3333333333333333,
              "#9c179e"
             ],
             [
              0.4444444444444444,
              "#bd3786"
             ],
             [
              0.5555555555555556,
              "#d8576b"
             ],
             [
              0.6666666666666666,
              "#ed7953"
             ],
             [
              0.7777777777777778,
              "#fb9f3a"
             ],
             [
              0.8888888888888888,
              "#fdca26"
             ],
             [
              1,
              "#f0f921"
             ]
            ],
            "type": "histogram2d"
           }
          ],
          "histogram2dcontour": [
           {
            "colorbar": {
             "outlinewidth": 0,
             "ticks": ""
            },
            "colorscale": [
             [
              0,
              "#0d0887"
             ],
             [
              0.1111111111111111,
              "#46039f"
             ],
             [
              0.2222222222222222,
              "#7201a8"
             ],
             [
              0.3333333333333333,
              "#9c179e"
             ],
             [
              0.4444444444444444,
              "#bd3786"
             ],
             [
              0.5555555555555556,
              "#d8576b"
             ],
             [
              0.6666666666666666,
              "#ed7953"
             ],
             [
              0.7777777777777778,
              "#fb9f3a"
             ],
             [
              0.8888888888888888,
              "#fdca26"
             ],
             [
              1,
              "#f0f921"
             ]
            ],
            "type": "histogram2dcontour"
           }
          ],
          "mesh3d": [
           {
            "colorbar": {
             "outlinewidth": 0,
             "ticks": ""
            },
            "type": "mesh3d"
           }
          ],
          "parcoords": [
           {
            "line": {
             "colorbar": {
              "outlinewidth": 0,
              "ticks": ""
             }
            },
            "type": "parcoords"
           }
          ],
          "pie": [
           {
            "automargin": true,
            "type": "pie"
           }
          ],
          "scatter": [
           {
            "fillpattern": {
             "fillmode": "overlay",
             "size": 10,
             "solidity": 0.2
            },
            "type": "scatter"
           }
          ],
          "scatter3d": [
           {
            "line": {
             "colorbar": {
              "outlinewidth": 0,
              "ticks": ""
             }
            },
            "marker": {
             "colorbar": {
              "outlinewidth": 0,
              "ticks": ""
             }
            },
            "type": "scatter3d"
           }
          ],
          "scattercarpet": [
           {
            "marker": {
             "colorbar": {
              "outlinewidth": 0,
              "ticks": ""
             }
            },
            "type": "scattercarpet"
           }
          ],
          "scattergeo": [
           {
            "marker": {
             "colorbar": {
              "outlinewidth": 0,
              "ticks": ""
             }
            },
            "type": "scattergeo"
           }
          ],
          "scattergl": [
           {
            "marker": {
             "colorbar": {
              "outlinewidth": 0,
              "ticks": ""
             }
            },
            "type": "scattergl"
           }
          ],
          "scattermapbox": [
           {
            "marker": {
             "colorbar": {
              "outlinewidth": 0,
              "ticks": ""
             }
            },
            "type": "scattermapbox"
           }
          ],
          "scatterpolar": [
           {
            "marker": {
             "colorbar": {
              "outlinewidth": 0,
              "ticks": ""
             }
            },
            "type": "scatterpolar"
           }
          ],
          "scatterpolargl": [
           {
            "marker": {
             "colorbar": {
              "outlinewidth": 0,
              "ticks": ""
             }
            },
            "type": "scatterpolargl"
           }
          ],
          "scatterternary": [
           {
            "marker": {
             "colorbar": {
              "outlinewidth": 0,
              "ticks": ""
             }
            },
            "type": "scatterternary"
           }
          ],
          "surface": [
           {
            "colorbar": {
             "outlinewidth": 0,
             "ticks": ""
            },
            "colorscale": [
             [
              0,
              "#0d0887"
             ],
             [
              0.1111111111111111,
              "#46039f"
             ],
             [
              0.2222222222222222,
              "#7201a8"
             ],
             [
              0.3333333333333333,
              "#9c179e"
             ],
             [
              0.4444444444444444,
              "#bd3786"
             ],
             [
              0.5555555555555556,
              "#d8576b"
             ],
             [
              0.6666666666666666,
              "#ed7953"
             ],
             [
              0.7777777777777778,
              "#fb9f3a"
             ],
             [
              0.8888888888888888,
              "#fdca26"
             ],
             [
              1,
              "#f0f921"
             ]
            ],
            "type": "surface"
           }
          ],
          "table": [
           {
            "cells": {
             "fill": {
              "color": "#EBF0F8"
             },
             "line": {
              "color": "white"
             }
            },
            "header": {
             "fill": {
              "color": "#C8D4E3"
             },
             "line": {
              "color": "white"
             }
            },
            "type": "table"
           }
          ]
         },
         "layout": {
          "annotationdefaults": {
           "arrowcolor": "#2a3f5f",
           "arrowhead": 0,
           "arrowwidth": 1
          },
          "autotypenumbers": "strict",
          "coloraxis": {
           "colorbar": {
            "outlinewidth": 0,
            "ticks": ""
           }
          },
          "colorscale": {
           "diverging": [
            [
             0,
             "#8e0152"
            ],
            [
             0.1,
             "#c51b7d"
            ],
            [
             0.2,
             "#de77ae"
            ],
            [
             0.3,
             "#f1b6da"
            ],
            [
             0.4,
             "#fde0ef"
            ],
            [
             0.5,
             "#f7f7f7"
            ],
            [
             0.6,
             "#e6f5d0"
            ],
            [
             0.7,
             "#b8e186"
            ],
            [
             0.8,
             "#7fbc41"
            ],
            [
             0.9,
             "#4d9221"
            ],
            [
             1,
             "#276419"
            ]
           ],
           "sequential": [
            [
             0,
             "#0d0887"
            ],
            [
             0.1111111111111111,
             "#46039f"
            ],
            [
             0.2222222222222222,
             "#7201a8"
            ],
            [
             0.3333333333333333,
             "#9c179e"
            ],
            [
             0.4444444444444444,
             "#bd3786"
            ],
            [
             0.5555555555555556,
             "#d8576b"
            ],
            [
             0.6666666666666666,
             "#ed7953"
            ],
            [
             0.7777777777777778,
             "#fb9f3a"
            ],
            [
             0.8888888888888888,
             "#fdca26"
            ],
            [
             1,
             "#f0f921"
            ]
           ],
           "sequentialminus": [
            [
             0,
             "#0d0887"
            ],
            [
             0.1111111111111111,
             "#46039f"
            ],
            [
             0.2222222222222222,
             "#7201a8"
            ],
            [
             0.3333333333333333,
             "#9c179e"
            ],
            [
             0.4444444444444444,
             "#bd3786"
            ],
            [
             0.5555555555555556,
             "#d8576b"
            ],
            [
             0.6666666666666666,
             "#ed7953"
            ],
            [
             0.7777777777777778,
             "#fb9f3a"
            ],
            [
             0.8888888888888888,
             "#fdca26"
            ],
            [
             1,
             "#f0f921"
            ]
           ]
          },
          "colorway": [
           "#636efa",
           "#EF553B",
           "#00cc96",
           "#ab63fa",
           "#FFA15A",
           "#19d3f3",
           "#FF6692",
           "#B6E880",
           "#FF97FF",
           "#FECB52"
          ],
          "font": {
           "color": "#2a3f5f"
          },
          "geo": {
           "bgcolor": "white",
           "lakecolor": "white",
           "landcolor": "#E5ECF6",
           "showlakes": true,
           "showland": true,
           "subunitcolor": "white"
          },
          "hoverlabel": {
           "align": "left"
          },
          "hovermode": "closest",
          "mapbox": {
           "style": "light"
          },
          "paper_bgcolor": "white",
          "plot_bgcolor": "#E5ECF6",
          "polar": {
           "angularaxis": {
            "gridcolor": "white",
            "linecolor": "white",
            "ticks": ""
           },
           "bgcolor": "#E5ECF6",
           "radialaxis": {
            "gridcolor": "white",
            "linecolor": "white",
            "ticks": ""
           }
          },
          "scene": {
           "xaxis": {
            "backgroundcolor": "#E5ECF6",
            "gridcolor": "white",
            "gridwidth": 2,
            "linecolor": "white",
            "showbackground": true,
            "ticks": "",
            "zerolinecolor": "white"
           },
           "yaxis": {
            "backgroundcolor": "#E5ECF6",
            "gridcolor": "white",
            "gridwidth": 2,
            "linecolor": "white",
            "showbackground": true,
            "ticks": "",
            "zerolinecolor": "white"
           },
           "zaxis": {
            "backgroundcolor": "#E5ECF6",
            "gridcolor": "white",
            "gridwidth": 2,
            "linecolor": "white",
            "showbackground": true,
            "ticks": "",
            "zerolinecolor": "white"
           }
          },
          "shapedefaults": {
           "line": {
            "color": "#2a3f5f"
           }
          },
          "ternary": {
           "aaxis": {
            "gridcolor": "white",
            "linecolor": "white",
            "ticks": ""
           },
           "baxis": {
            "gridcolor": "white",
            "linecolor": "white",
            "ticks": ""
           },
           "bgcolor": "#E5ECF6",
           "caxis": {
            "gridcolor": "white",
            "linecolor": "white",
            "ticks": ""
           }
          },
          "title": {
           "x": 0.05
          },
          "xaxis": {
           "automargin": true,
           "gridcolor": "white",
           "linecolor": "white",
           "ticks": "",
           "title": {
            "standoff": 15
           },
           "zerolinecolor": "white",
           "zerolinewidth": 2
          },
          "yaxis": {
           "automargin": true,
           "gridcolor": "white",
           "linecolor": "white",
           "ticks": "",
           "title": {
            "standoff": 15
           },
           "zerolinecolor": "white",
           "zerolinewidth": 2
          }
         }
        },
        "title": {
         "text": "Top 10 Artists"
        },
        "xaxis": {
         "anchor": "y",
         "domain": [
          0,
          1
         ],
         "title": {
          "text": "Artist.Name"
         }
        },
        "yaxis": {
         "anchor": "x",
         "domain": [
          0,
          1
         ],
         "title": {
          "text": "Count"
         }
        }
       }
      }
     },
     "metadata": {},
     "output_type": "display_data"
    }
   ],
   "source": [
    "fig = px.bar(\n",
    "    df_artist.head(10),\n",
    "    x=\"Artist.Name\",\n",
    "    y=\"Count\",\n",
    "    text_auto=True)\n",
    "fig.update_layout(legend_orientation=\"h\",\n",
    "                      legend=dict(x=0, y=1, traceorder=\"normal\"),\n",
    "                      title=\"Top 10 Artists\",\n",
    "                      margin=dict(l=0, r=0, t=30, b=0)\n",
    "                    )"
   ]
  },
  {
   "cell_type": "code",
   "execution_count": 20,
   "metadata": {},
   "outputs": [],
   "source": [
    "# Create a dataframe to popularity analysis\n",
    "df_popularity=df.filter([\"Artist.Name\", \"Popularity\"]).sort_values(by=\"Popularity\", ascending=False)"
   ]
  },
  {
   "cell_type": "code",
   "execution_count": 21,
   "metadata": {},
   "outputs": [
    {
     "data": {
      "text/html": [
       "<div>\n",
       "<style scoped>\n",
       "    .dataframe tbody tr th:only-of-type {\n",
       "        vertical-align: middle;\n",
       "    }\n",
       "\n",
       "    .dataframe tbody tr th {\n",
       "        vertical-align: top;\n",
       "    }\n",
       "\n",
       "    .dataframe thead th {\n",
       "        text-align: right;\n",
       "    }\n",
       "</style>\n",
       "<table border=\"1\" class=\"dataframe\">\n",
       "  <thead>\n",
       "    <tr style=\"text-align: right;\">\n",
       "      <th></th>\n",
       "      <th>Artist.Name</th>\n",
       "      <th>Popularity</th>\n",
       "    </tr>\n",
       "  </thead>\n",
       "  <tbody>\n",
       "    <tr>\n",
       "      <th>9</th>\n",
       "      <td>Billie Eilish</td>\n",
       "      <td>95</td>\n",
       "    </tr>\n",
       "    <tr>\n",
       "      <th>4</th>\n",
       "      <td>Post Malone</td>\n",
       "      <td>94</td>\n",
       "    </tr>\n",
       "    <tr>\n",
       "      <th>10</th>\n",
       "      <td>Bad Bunny</td>\n",
       "      <td>93</td>\n",
       "    </tr>\n",
       "    <tr>\n",
       "      <th>14</th>\n",
       "      <td>Drake</td>\n",
       "      <td>92</td>\n",
       "    </tr>\n",
       "    <tr>\n",
       "      <th>1</th>\n",
       "      <td>Anuel AA</td>\n",
       "      <td>92</td>\n",
       "    </tr>\n",
       "    <tr>\n",
       "      <th>6</th>\n",
       "      <td>Lil Tecca</td>\n",
       "      <td>92</td>\n",
       "    </tr>\n",
       "    <tr>\n",
       "      <th>36</th>\n",
       "      <td>Sech</td>\n",
       "      <td>91</td>\n",
       "    </tr>\n",
       "    <tr>\n",
       "      <th>21</th>\n",
       "      <td>Lil Nas X</td>\n",
       "      <td>91</td>\n",
       "    </tr>\n",
       "    <tr>\n",
       "      <th>20</th>\n",
       "      <td>MEDUZA</td>\n",
       "      <td>91</td>\n",
       "    </tr>\n",
       "    <tr>\n",
       "      <th>19</th>\n",
       "      <td>Lizzo</td>\n",
       "      <td>91</td>\n",
       "    </tr>\n",
       "  </tbody>\n",
       "</table>\n",
       "</div>"
      ],
      "text/plain": [
       "      Artist.Name  Popularity\n",
       "9   Billie Eilish          95\n",
       "4     Post Malone          94\n",
       "10      Bad Bunny          93\n",
       "14          Drake          92\n",
       "1        Anuel AA          92\n",
       "6       Lil Tecca          92\n",
       "36           Sech          91\n",
       "21      Lil Nas X          91\n",
       "20         MEDUZA          91\n",
       "19          Lizzo          91"
      ]
     },
     "execution_count": 21,
     "metadata": {},
     "output_type": "execute_result"
    }
   ],
   "source": [
    "df_popularity.head(10)"
   ]
  },
  {
   "cell_type": "code",
   "execution_count": 31,
   "metadata": {},
   "outputs": [
    {
     "data": {
      "application/vnd.plotly.v1+json": {
       "config": {
        "plotlyServerURL": "https://plot.ly"
       },
       "data": [
        {
         "alignmentgroup": "True",
         "hovertemplate": "Artist.Name=%{x}<br>Popularity=%{y}<extra></extra>",
         "legendgroup": "",
         "marker": {
          "color": "#636efa",
          "pattern": {
           "shape": ""
          }
         },
         "name": "",
         "offsetgroup": "",
         "orientation": "v",
         "showlegend": false,
         "textposition": "auto",
         "texttemplate": "%{y}",
         "type": "bar",
         "x": [
          "Billie Eilish",
          "Post Malone",
          "Bad Bunny",
          "Drake",
          "Anuel AA",
          "Lil Tecca",
          "Sech",
          "Lil Nas X",
          "MEDUZA",
          "Lizzo"
         ],
         "xaxis": "x",
         "y": [
          95,
          94,
          93,
          92,
          92,
          92,
          91,
          91,
          91,
          91
         ],
         "yaxis": "y"
        }
       ],
       "layout": {
        "barmode": "relative",
        "legend": {
         "orientation": "h",
         "tracegroupgap": 0,
         "traceorder": "normal",
         "x": 0,
         "y": 1
        },
        "margin": {
         "b": 0,
         "l": 0,
         "r": 0,
         "t": 30
        },
        "template": {
         "data": {
          "bar": [
           {
            "error_x": {
             "color": "#2a3f5f"
            },
            "error_y": {
             "color": "#2a3f5f"
            },
            "marker": {
             "line": {
              "color": "#E5ECF6",
              "width": 0.5
             },
             "pattern": {
              "fillmode": "overlay",
              "size": 10,
              "solidity": 0.2
             }
            },
            "type": "bar"
           }
          ],
          "barpolar": [
           {
            "marker": {
             "line": {
              "color": "#E5ECF6",
              "width": 0.5
             },
             "pattern": {
              "fillmode": "overlay",
              "size": 10,
              "solidity": 0.2
             }
            },
            "type": "barpolar"
           }
          ],
          "carpet": [
           {
            "aaxis": {
             "endlinecolor": "#2a3f5f",
             "gridcolor": "white",
             "linecolor": "white",
             "minorgridcolor": "white",
             "startlinecolor": "#2a3f5f"
            },
            "baxis": {
             "endlinecolor": "#2a3f5f",
             "gridcolor": "white",
             "linecolor": "white",
             "minorgridcolor": "white",
             "startlinecolor": "#2a3f5f"
            },
            "type": "carpet"
           }
          ],
          "choropleth": [
           {
            "colorbar": {
             "outlinewidth": 0,
             "ticks": ""
            },
            "type": "choropleth"
           }
          ],
          "contour": [
           {
            "colorbar": {
             "outlinewidth": 0,
             "ticks": ""
            },
            "colorscale": [
             [
              0,
              "#0d0887"
             ],
             [
              0.1111111111111111,
              "#46039f"
             ],
             [
              0.2222222222222222,
              "#7201a8"
             ],
             [
              0.3333333333333333,
              "#9c179e"
             ],
             [
              0.4444444444444444,
              "#bd3786"
             ],
             [
              0.5555555555555556,
              "#d8576b"
             ],
             [
              0.6666666666666666,
              "#ed7953"
             ],
             [
              0.7777777777777778,
              "#fb9f3a"
             ],
             [
              0.8888888888888888,
              "#fdca26"
             ],
             [
              1,
              "#f0f921"
             ]
            ],
            "type": "contour"
           }
          ],
          "contourcarpet": [
           {
            "colorbar": {
             "outlinewidth": 0,
             "ticks": ""
            },
            "type": "contourcarpet"
           }
          ],
          "heatmap": [
           {
            "colorbar": {
             "outlinewidth": 0,
             "ticks": ""
            },
            "colorscale": [
             [
              0,
              "#0d0887"
             ],
             [
              0.1111111111111111,
              "#46039f"
             ],
             [
              0.2222222222222222,
              "#7201a8"
             ],
             [
              0.3333333333333333,
              "#9c179e"
             ],
             [
              0.4444444444444444,
              "#bd3786"
             ],
             [
              0.5555555555555556,
              "#d8576b"
             ],
             [
              0.6666666666666666,
              "#ed7953"
             ],
             [
              0.7777777777777778,
              "#fb9f3a"
             ],
             [
              0.8888888888888888,
              "#fdca26"
             ],
             [
              1,
              "#f0f921"
             ]
            ],
            "type": "heatmap"
           }
          ],
          "heatmapgl": [
           {
            "colorbar": {
             "outlinewidth": 0,
             "ticks": ""
            },
            "colorscale": [
             [
              0,
              "#0d0887"
             ],
             [
              0.1111111111111111,
              "#46039f"
             ],
             [
              0.2222222222222222,
              "#7201a8"
             ],
             [
              0.3333333333333333,
              "#9c179e"
             ],
             [
              0.4444444444444444,
              "#bd3786"
             ],
             [
              0.5555555555555556,
              "#d8576b"
             ],
             [
              0.6666666666666666,
              "#ed7953"
             ],
             [
              0.7777777777777778,
              "#fb9f3a"
             ],
             [
              0.8888888888888888,
              "#fdca26"
             ],
             [
              1,
              "#f0f921"
             ]
            ],
            "type": "heatmapgl"
           }
          ],
          "histogram": [
           {
            "marker": {
             "pattern": {
              "fillmode": "overlay",
              "size": 10,
              "solidity": 0.2
             }
            },
            "type": "histogram"
           }
          ],
          "histogram2d": [
           {
            "colorbar": {
             "outlinewidth": 0,
             "ticks": ""
            },
            "colorscale": [
             [
              0,
              "#0d0887"
             ],
             [
              0.1111111111111111,
              "#46039f"
             ],
             [
              0.2222222222222222,
              "#7201a8"
             ],
             [
              0.3333333333333333,
              "#9c179e"
             ],
             [
              0.4444444444444444,
              "#bd3786"
             ],
             [
              0.5555555555555556,
              "#d8576b"
             ],
             [
              0.6666666666666666,
              "#ed7953"
             ],
             [
              0.7777777777777778,
              "#fb9f3a"
             ],
             [
              0.8888888888888888,
              "#fdca26"
             ],
             [
              1,
              "#f0f921"
             ]
            ],
            "type": "histogram2d"
           }
          ],
          "histogram2dcontour": [
           {
            "colorbar": {
             "outlinewidth": 0,
             "ticks": ""
            },
            "colorscale": [
             [
              0,
              "#0d0887"
             ],
             [
              0.1111111111111111,
              "#46039f"
             ],
             [
              0.2222222222222222,
              "#7201a8"
             ],
             [
              0.3333333333333333,
              "#9c179e"
             ],
             [
              0.4444444444444444,
              "#bd3786"
             ],
             [
              0.5555555555555556,
              "#d8576b"
             ],
             [
              0.6666666666666666,
              "#ed7953"
             ],
             [
              0.7777777777777778,
              "#fb9f3a"
             ],
             [
              0.8888888888888888,
              "#fdca26"
             ],
             [
              1,
              "#f0f921"
             ]
            ],
            "type": "histogram2dcontour"
           }
          ],
          "mesh3d": [
           {
            "colorbar": {
             "outlinewidth": 0,
             "ticks": ""
            },
            "type": "mesh3d"
           }
          ],
          "parcoords": [
           {
            "line": {
             "colorbar": {
              "outlinewidth": 0,
              "ticks": ""
             }
            },
            "type": "parcoords"
           }
          ],
          "pie": [
           {
            "automargin": true,
            "type": "pie"
           }
          ],
          "scatter": [
           {
            "fillpattern": {
             "fillmode": "overlay",
             "size": 10,
             "solidity": 0.2
            },
            "type": "scatter"
           }
          ],
          "scatter3d": [
           {
            "line": {
             "colorbar": {
              "outlinewidth": 0,
              "ticks": ""
             }
            },
            "marker": {
             "colorbar": {
              "outlinewidth": 0,
              "ticks": ""
             }
            },
            "type": "scatter3d"
           }
          ],
          "scattercarpet": [
           {
            "marker": {
             "colorbar": {
              "outlinewidth": 0,
              "ticks": ""
             }
            },
            "type": "scattercarpet"
           }
          ],
          "scattergeo": [
           {
            "marker": {
             "colorbar": {
              "outlinewidth": 0,
              "ticks": ""
             }
            },
            "type": "scattergeo"
           }
          ],
          "scattergl": [
           {
            "marker": {
             "colorbar": {
              "outlinewidth": 0,
              "ticks": ""
             }
            },
            "type": "scattergl"
           }
          ],
          "scattermapbox": [
           {
            "marker": {
             "colorbar": {
              "outlinewidth": 0,
              "ticks": ""
             }
            },
            "type": "scattermapbox"
           }
          ],
          "scatterpolar": [
           {
            "marker": {
             "colorbar": {
              "outlinewidth": 0,
              "ticks": ""
             }
            },
            "type": "scatterpolar"
           }
          ],
          "scatterpolargl": [
           {
            "marker": {
             "colorbar": {
              "outlinewidth": 0,
              "ticks": ""
             }
            },
            "type": "scatterpolargl"
           }
          ],
          "scatterternary": [
           {
            "marker": {
             "colorbar": {
              "outlinewidth": 0,
              "ticks": ""
             }
            },
            "type": "scatterternary"
           }
          ],
          "surface": [
           {
            "colorbar": {
             "outlinewidth": 0,
             "ticks": ""
            },
            "colorscale": [
             [
              0,
              "#0d0887"
             ],
             [
              0.1111111111111111,
              "#46039f"
             ],
             [
              0.2222222222222222,
              "#7201a8"
             ],
             [
              0.3333333333333333,
              "#9c179e"
             ],
             [
              0.4444444444444444,
              "#bd3786"
             ],
             [
              0.5555555555555556,
              "#d8576b"
             ],
             [
              0.6666666666666666,
              "#ed7953"
             ],
             [
              0.7777777777777778,
              "#fb9f3a"
             ],
             [
              0.8888888888888888,
              "#fdca26"
             ],
             [
              1,
              "#f0f921"
             ]
            ],
            "type": "surface"
           }
          ],
          "table": [
           {
            "cells": {
             "fill": {
              "color": "#EBF0F8"
             },
             "line": {
              "color": "white"
             }
            },
            "header": {
             "fill": {
              "color": "#C8D4E3"
             },
             "line": {
              "color": "white"
             }
            },
            "type": "table"
           }
          ]
         },
         "layout": {
          "annotationdefaults": {
           "arrowcolor": "#2a3f5f",
           "arrowhead": 0,
           "arrowwidth": 1
          },
          "autotypenumbers": "strict",
          "coloraxis": {
           "colorbar": {
            "outlinewidth": 0,
            "ticks": ""
           }
          },
          "colorscale": {
           "diverging": [
            [
             0,
             "#8e0152"
            ],
            [
             0.1,
             "#c51b7d"
            ],
            [
             0.2,
             "#de77ae"
            ],
            [
             0.3,
             "#f1b6da"
            ],
            [
             0.4,
             "#fde0ef"
            ],
            [
             0.5,
             "#f7f7f7"
            ],
            [
             0.6,
             "#e6f5d0"
            ],
            [
             0.7,
             "#b8e186"
            ],
            [
             0.8,
             "#7fbc41"
            ],
            [
             0.9,
             "#4d9221"
            ],
            [
             1,
             "#276419"
            ]
           ],
           "sequential": [
            [
             0,
             "#0d0887"
            ],
            [
             0.1111111111111111,
             "#46039f"
            ],
            [
             0.2222222222222222,
             "#7201a8"
            ],
            [
             0.3333333333333333,
             "#9c179e"
            ],
            [
             0.4444444444444444,
             "#bd3786"
            ],
            [
             0.5555555555555556,
             "#d8576b"
            ],
            [
             0.6666666666666666,
             "#ed7953"
            ],
            [
             0.7777777777777778,
             "#fb9f3a"
            ],
            [
             0.8888888888888888,
             "#fdca26"
            ],
            [
             1,
             "#f0f921"
            ]
           ],
           "sequentialminus": [
            [
             0,
             "#0d0887"
            ],
            [
             0.1111111111111111,
             "#46039f"
            ],
            [
             0.2222222222222222,
             "#7201a8"
            ],
            [
             0.3333333333333333,
             "#9c179e"
            ],
            [
             0.4444444444444444,
             "#bd3786"
            ],
            [
             0.5555555555555556,
             "#d8576b"
            ],
            [
             0.6666666666666666,
             "#ed7953"
            ],
            [
             0.7777777777777778,
             "#fb9f3a"
            ],
            [
             0.8888888888888888,
             "#fdca26"
            ],
            [
             1,
             "#f0f921"
            ]
           ]
          },
          "colorway": [
           "#636efa",
           "#EF553B",
           "#00cc96",
           "#ab63fa",
           "#FFA15A",
           "#19d3f3",
           "#FF6692",
           "#B6E880",
           "#FF97FF",
           "#FECB52"
          ],
          "font": {
           "color": "#2a3f5f"
          },
          "geo": {
           "bgcolor": "white",
           "lakecolor": "white",
           "landcolor": "#E5ECF6",
           "showlakes": true,
           "showland": true,
           "subunitcolor": "white"
          },
          "hoverlabel": {
           "align": "left"
          },
          "hovermode": "closest",
          "mapbox": {
           "style": "light"
          },
          "paper_bgcolor": "white",
          "plot_bgcolor": "#E5ECF6",
          "polar": {
           "angularaxis": {
            "gridcolor": "white",
            "linecolor": "white",
            "ticks": ""
           },
           "bgcolor": "#E5ECF6",
           "radialaxis": {
            "gridcolor": "white",
            "linecolor": "white",
            "ticks": ""
           }
          },
          "scene": {
           "xaxis": {
            "backgroundcolor": "#E5ECF6",
            "gridcolor": "white",
            "gridwidth": 2,
            "linecolor": "white",
            "showbackground": true,
            "ticks": "",
            "zerolinecolor": "white"
           },
           "yaxis": {
            "backgroundcolor": "#E5ECF6",
            "gridcolor": "white",
            "gridwidth": 2,
            "linecolor": "white",
            "showbackground": true,
            "ticks": "",
            "zerolinecolor": "white"
           },
           "zaxis": {
            "backgroundcolor": "#E5ECF6",
            "gridcolor": "white",
            "gridwidth": 2,
            "linecolor": "white",
            "showbackground": true,
            "ticks": "",
            "zerolinecolor": "white"
           }
          },
          "shapedefaults": {
           "line": {
            "color": "#2a3f5f"
           }
          },
          "ternary": {
           "aaxis": {
            "gridcolor": "white",
            "linecolor": "white",
            "ticks": ""
           },
           "baxis": {
            "gridcolor": "white",
            "linecolor": "white",
            "ticks": ""
           },
           "bgcolor": "#E5ECF6",
           "caxis": {
            "gridcolor": "white",
            "linecolor": "white",
            "ticks": ""
           }
          },
          "title": {
           "x": 0.05
          },
          "xaxis": {
           "automargin": true,
           "gridcolor": "white",
           "linecolor": "white",
           "ticks": "",
           "title": {
            "standoff": 15
           },
           "zerolinecolor": "white",
           "zerolinewidth": 2
          },
          "yaxis": {
           "automargin": true,
           "gridcolor": "white",
           "linecolor": "white",
           "ticks": "",
           "title": {
            "standoff": 15
           },
           "zerolinecolor": "white",
           "zerolinewidth": 2
          }
         }
        },
        "title": {
         "text": "Top 10 Artists by popularity"
        },
        "xaxis": {
         "anchor": "y",
         "domain": [
          0,
          1
         ],
         "title": {
          "text": "Artist.Name"
         }
        },
        "yaxis": {
         "anchor": "x",
         "domain": [
          0,
          1
         ],
         "title": {
          "text": "Popularity"
         }
        }
       }
      }
     },
     "metadata": {},
     "output_type": "display_data"
    }
   ],
   "source": [
    "fig = px.bar(\n",
    "    df_popularity.head(10),\n",
    "    x=\"Artist.Name\",\n",
    "    y=\"Popularity\",\n",
    "    text_auto=True)\n",
    "fig.update_layout(legend_orientation=\"h\",\n",
    "                      legend=dict(x=0, y=1, traceorder=\"normal\"),\n",
    "                      title=\"Top 10 Artists by popularity\",\n",
    "                      margin=dict(l=0, r=0, t=30, b=0)\n",
    "                    )"
   ]
  },
  {
   "attachments": {},
   "cell_type": "markdown",
   "metadata": {},
   "source": [
    "- What can we know about the genre?"
   ]
  },
  {
   "cell_type": "code",
   "execution_count": 23,
   "metadata": {},
   "outputs": [
    {
     "data": {
      "text/plain": [
       "0      canadian pop\n",
       "1    reggaeton flow\n",
       "2         dance pop\n",
       "Name: Genre, dtype: object"
      ]
     },
     "execution_count": 23,
     "metadata": {},
     "output_type": "execute_result"
    }
   ],
   "source": [
    "# Listing all the Genres in the dataset\n",
    "df[\"Genre\"].head(3)"
   ]
  },
  {
   "attachments": {},
   "cell_type": "markdown",
   "metadata": {},
   "source": [
    "Observe that \"Genre\" is a \"object\" datatype"
   ]
  },
  {
   "cell_type": "code",
   "execution_count": 24,
   "metadata": {},
   "outputs": [
    {
     "data": {
      "text/html": [
       "<div>\n",
       "<style scoped>\n",
       "    .dataframe tbody tr th:only-of-type {\n",
       "        vertical-align: middle;\n",
       "    }\n",
       "\n",
       "    .dataframe tbody tr th {\n",
       "        vertical-align: top;\n",
       "    }\n",
       "\n",
       "    .dataframe thead th {\n",
       "        text-align: right;\n",
       "    }\n",
       "</style>\n",
       "<table border=\"1\" class=\"dataframe\">\n",
       "  <thead>\n",
       "    <tr style=\"text-align: right;\">\n",
       "      <th></th>\n",
       "      <th>Genre</th>\n",
       "    </tr>\n",
       "  </thead>\n",
       "  <tbody>\n",
       "    <tr>\n",
       "      <th>0</th>\n",
       "      <td>canadian pop</td>\n",
       "    </tr>\n",
       "    <tr>\n",
       "      <th>1</th>\n",
       "      <td>reggaeton flow</td>\n",
       "    </tr>\n",
       "    <tr>\n",
       "      <th>2</th>\n",
       "      <td>dance pop</td>\n",
       "    </tr>\n",
       "  </tbody>\n",
       "</table>\n",
       "</div>"
      ],
      "text/plain": [
       "            Genre\n",
       "0    canadian pop\n",
       "1  reggaeton flow\n",
       "2       dance pop"
      ]
     },
     "execution_count": 24,
     "metadata": {},
     "output_type": "execute_result"
    }
   ],
   "source": [
    "df_genero = df.filter([\"Genre\"]).head(3)\n",
    "df_genero"
   ]
  },
  {
   "cell_type": "code",
   "execution_count": 25,
   "metadata": {},
   "outputs": [],
   "source": [
    "# Create a dataframe to count genre in the dataset\n",
    "df_genero['Count']=1\n",
    "df_genre=df.groupby('Genre')['Count'].sum().reset_index().sort_values(by='Count', ascending=False)"
   ]
  },
  {
   "cell_type": "code",
   "execution_count": 26,
   "metadata": {},
   "outputs": [
    {
     "data": {
      "text/html": [
       "<div>\n",
       "<style scoped>\n",
       "    .dataframe tbody tr th:only-of-type {\n",
       "        vertical-align: middle;\n",
       "    }\n",
       "\n",
       "    .dataframe tbody tr th {\n",
       "        vertical-align: top;\n",
       "    }\n",
       "\n",
       "    .dataframe thead th {\n",
       "        text-align: right;\n",
       "    }\n",
       "</style>\n",
       "<table border=\"1\" class=\"dataframe\">\n",
       "  <thead>\n",
       "    <tr style=\"text-align: right;\">\n",
       "      <th></th>\n",
       "      <th>Genre</th>\n",
       "      <th>Count</th>\n",
       "    </tr>\n",
       "  </thead>\n",
       "  <tbody>\n",
       "    <tr>\n",
       "      <th>8</th>\n",
       "      <td>dance pop</td>\n",
       "      <td>8</td>\n",
       "    </tr>\n",
       "    <tr>\n",
       "      <th>15</th>\n",
       "      <td>pop</td>\n",
       "      <td>7</td>\n",
       "    </tr>\n",
       "    <tr>\n",
       "      <th>13</th>\n",
       "      <td>latin</td>\n",
       "      <td>5</td>\n",
       "    </tr>\n",
       "    <tr>\n",
       "      <th>10</th>\n",
       "      <td>edm</td>\n",
       "      <td>3</td>\n",
       "    </tr>\n",
       "    <tr>\n",
       "      <th>5</th>\n",
       "      <td>canadian hip hop</td>\n",
       "      <td>3</td>\n",
       "    </tr>\n",
       "    <tr>\n",
       "      <th>19</th>\n",
       "      <td>reggaeton flow</td>\n",
       "      <td>2</td>\n",
       "    </tr>\n",
       "    <tr>\n",
       "      <th>18</th>\n",
       "      <td>reggaeton</td>\n",
       "      <td>2</td>\n",
       "    </tr>\n",
       "    <tr>\n",
       "      <th>4</th>\n",
       "      <td>brostep</td>\n",
       "      <td>2</td>\n",
       "    </tr>\n",
       "    <tr>\n",
       "      <th>6</th>\n",
       "      <td>canadian pop</td>\n",
       "      <td>2</td>\n",
       "    </tr>\n",
       "    <tr>\n",
       "      <th>7</th>\n",
       "      <td>country rap</td>\n",
       "      <td>2</td>\n",
       "    </tr>\n",
       "  </tbody>\n",
       "</table>\n",
       "</div>"
      ],
      "text/plain": [
       "               Genre  Count\n",
       "8          dance pop      8\n",
       "15               pop      7\n",
       "13             latin      5\n",
       "10               edm      3\n",
       "5   canadian hip hop      3\n",
       "19    reggaeton flow      2\n",
       "18         reggaeton      2\n",
       "4            brostep      2\n",
       "6       canadian pop      2\n",
       "7        country rap      2"
      ]
     },
     "execution_count": 26,
     "metadata": {},
     "output_type": "execute_result"
    }
   ],
   "source": [
    "# Top 10 genres\n",
    "df_genre.head(10)"
   ]
  },
  {
   "cell_type": "code",
   "execution_count": 32,
   "metadata": {},
   "outputs": [
    {
     "data": {
      "application/vnd.plotly.v1+json": {
       "config": {
        "plotlyServerURL": "https://plot.ly"
       },
       "data": [
        {
         "alignmentgroup": "True",
         "hovertemplate": "Genre=%{x}<br>Count=%{y}<extra></extra>",
         "legendgroup": "",
         "marker": {
          "color": "#636efa",
          "pattern": {
           "shape": ""
          }
         },
         "name": "",
         "offsetgroup": "",
         "orientation": "v",
         "showlegend": false,
         "textposition": "auto",
         "texttemplate": "%{y}",
         "type": "bar",
         "x": [
          "dance pop",
          "pop",
          "latin",
          "edm",
          "canadian hip hop",
          "reggaeton flow",
          "reggaeton",
          "brostep",
          "canadian pop",
          "country rap"
         ],
         "xaxis": "x",
         "y": [
          8,
          7,
          5,
          3,
          3,
          2,
          2,
          2,
          2,
          2
         ],
         "yaxis": "y"
        }
       ],
       "layout": {
        "barmode": "relative",
        "legend": {
         "orientation": "h",
         "tracegroupgap": 0,
         "traceorder": "normal",
         "x": 0,
         "y": 1
        },
        "margin": {
         "b": 0,
         "l": 0,
         "r": 0,
         "t": 30
        },
        "template": {
         "data": {
          "bar": [
           {
            "error_x": {
             "color": "#2a3f5f"
            },
            "error_y": {
             "color": "#2a3f5f"
            },
            "marker": {
             "line": {
              "color": "#E5ECF6",
              "width": 0.5
             },
             "pattern": {
              "fillmode": "overlay",
              "size": 10,
              "solidity": 0.2
             }
            },
            "type": "bar"
           }
          ],
          "barpolar": [
           {
            "marker": {
             "line": {
              "color": "#E5ECF6",
              "width": 0.5
             },
             "pattern": {
              "fillmode": "overlay",
              "size": 10,
              "solidity": 0.2
             }
            },
            "type": "barpolar"
           }
          ],
          "carpet": [
           {
            "aaxis": {
             "endlinecolor": "#2a3f5f",
             "gridcolor": "white",
             "linecolor": "white",
             "minorgridcolor": "white",
             "startlinecolor": "#2a3f5f"
            },
            "baxis": {
             "endlinecolor": "#2a3f5f",
             "gridcolor": "white",
             "linecolor": "white",
             "minorgridcolor": "white",
             "startlinecolor": "#2a3f5f"
            },
            "type": "carpet"
           }
          ],
          "choropleth": [
           {
            "colorbar": {
             "outlinewidth": 0,
             "ticks": ""
            },
            "type": "choropleth"
           }
          ],
          "contour": [
           {
            "colorbar": {
             "outlinewidth": 0,
             "ticks": ""
            },
            "colorscale": [
             [
              0,
              "#0d0887"
             ],
             [
              0.1111111111111111,
              "#46039f"
             ],
             [
              0.2222222222222222,
              "#7201a8"
             ],
             [
              0.3333333333333333,
              "#9c179e"
             ],
             [
              0.4444444444444444,
              "#bd3786"
             ],
             [
              0.5555555555555556,
              "#d8576b"
             ],
             [
              0.6666666666666666,
              "#ed7953"
             ],
             [
              0.7777777777777778,
              "#fb9f3a"
             ],
             [
              0.8888888888888888,
              "#fdca26"
             ],
             [
              1,
              "#f0f921"
             ]
            ],
            "type": "contour"
           }
          ],
          "contourcarpet": [
           {
            "colorbar": {
             "outlinewidth": 0,
             "ticks": ""
            },
            "type": "contourcarpet"
           }
          ],
          "heatmap": [
           {
            "colorbar": {
             "outlinewidth": 0,
             "ticks": ""
            },
            "colorscale": [
             [
              0,
              "#0d0887"
             ],
             [
              0.1111111111111111,
              "#46039f"
             ],
             [
              0.2222222222222222,
              "#7201a8"
             ],
             [
              0.3333333333333333,
              "#9c179e"
             ],
             [
              0.4444444444444444,
              "#bd3786"
             ],
             [
              0.5555555555555556,
              "#d8576b"
             ],
             [
              0.6666666666666666,
              "#ed7953"
             ],
             [
              0.7777777777777778,
              "#fb9f3a"
             ],
             [
              0.8888888888888888,
              "#fdca26"
             ],
             [
              1,
              "#f0f921"
             ]
            ],
            "type": "heatmap"
           }
          ],
          "heatmapgl": [
           {
            "colorbar": {
             "outlinewidth": 0,
             "ticks": ""
            },
            "colorscale": [
             [
              0,
              "#0d0887"
             ],
             [
              0.1111111111111111,
              "#46039f"
             ],
             [
              0.2222222222222222,
              "#7201a8"
             ],
             [
              0.3333333333333333,
              "#9c179e"
             ],
             [
              0.4444444444444444,
              "#bd3786"
             ],
             [
              0.5555555555555556,
              "#d8576b"
             ],
             [
              0.6666666666666666,
              "#ed7953"
             ],
             [
              0.7777777777777778,
              "#fb9f3a"
             ],
             [
              0.8888888888888888,
              "#fdca26"
             ],
             [
              1,
              "#f0f921"
             ]
            ],
            "type": "heatmapgl"
           }
          ],
          "histogram": [
           {
            "marker": {
             "pattern": {
              "fillmode": "overlay",
              "size": 10,
              "solidity": 0.2
             }
            },
            "type": "histogram"
           }
          ],
          "histogram2d": [
           {
            "colorbar": {
             "outlinewidth": 0,
             "ticks": ""
            },
            "colorscale": [
             [
              0,
              "#0d0887"
             ],
             [
              0.1111111111111111,
              "#46039f"
             ],
             [
              0.2222222222222222,
              "#7201a8"
             ],
             [
              0.3333333333333333,
              "#9c179e"
             ],
             [
              0.4444444444444444,
              "#bd3786"
             ],
             [
              0.5555555555555556,
              "#d8576b"
             ],
             [
              0.6666666666666666,
              "#ed7953"
             ],
             [
              0.7777777777777778,
              "#fb9f3a"
             ],
             [
              0.8888888888888888,
              "#fdca26"
             ],
             [
              1,
              "#f0f921"
             ]
            ],
            "type": "histogram2d"
           }
          ],
          "histogram2dcontour": [
           {
            "colorbar": {
             "outlinewidth": 0,
             "ticks": ""
            },
            "colorscale": [
             [
              0,
              "#0d0887"
             ],
             [
              0.1111111111111111,
              "#46039f"
             ],
             [
              0.2222222222222222,
              "#7201a8"
             ],
             [
              0.3333333333333333,
              "#9c179e"
             ],
             [
              0.4444444444444444,
              "#bd3786"
             ],
             [
              0.5555555555555556,
              "#d8576b"
             ],
             [
              0.6666666666666666,
              "#ed7953"
             ],
             [
              0.7777777777777778,
              "#fb9f3a"
             ],
             [
              0.8888888888888888,
              "#fdca26"
             ],
             [
              1,
              "#f0f921"
             ]
            ],
            "type": "histogram2dcontour"
           }
          ],
          "mesh3d": [
           {
            "colorbar": {
             "outlinewidth": 0,
             "ticks": ""
            },
            "type": "mesh3d"
           }
          ],
          "parcoords": [
           {
            "line": {
             "colorbar": {
              "outlinewidth": 0,
              "ticks": ""
             }
            },
            "type": "parcoords"
           }
          ],
          "pie": [
           {
            "automargin": true,
            "type": "pie"
           }
          ],
          "scatter": [
           {
            "fillpattern": {
             "fillmode": "overlay",
             "size": 10,
             "solidity": 0.2
            },
            "type": "scatter"
           }
          ],
          "scatter3d": [
           {
            "line": {
             "colorbar": {
              "outlinewidth": 0,
              "ticks": ""
             }
            },
            "marker": {
             "colorbar": {
              "outlinewidth": 0,
              "ticks": ""
             }
            },
            "type": "scatter3d"
           }
          ],
          "scattercarpet": [
           {
            "marker": {
             "colorbar": {
              "outlinewidth": 0,
              "ticks": ""
             }
            },
            "type": "scattercarpet"
           }
          ],
          "scattergeo": [
           {
            "marker": {
             "colorbar": {
              "outlinewidth": 0,
              "ticks": ""
             }
            },
            "type": "scattergeo"
           }
          ],
          "scattergl": [
           {
            "marker": {
             "colorbar": {
              "outlinewidth": 0,
              "ticks": ""
             }
            },
            "type": "scattergl"
           }
          ],
          "scattermapbox": [
           {
            "marker": {
             "colorbar": {
              "outlinewidth": 0,
              "ticks": ""
             }
            },
            "type": "scattermapbox"
           }
          ],
          "scatterpolar": [
           {
            "marker": {
             "colorbar": {
              "outlinewidth": 0,
              "ticks": ""
             }
            },
            "type": "scatterpolar"
           }
          ],
          "scatterpolargl": [
           {
            "marker": {
             "colorbar": {
              "outlinewidth": 0,
              "ticks": ""
             }
            },
            "type": "scatterpolargl"
           }
          ],
          "scatterternary": [
           {
            "marker": {
             "colorbar": {
              "outlinewidth": 0,
              "ticks": ""
             }
            },
            "type": "scatterternary"
           }
          ],
          "surface": [
           {
            "colorbar": {
             "outlinewidth": 0,
             "ticks": ""
            },
            "colorscale": [
             [
              0,
              "#0d0887"
             ],
             [
              0.1111111111111111,
              "#46039f"
             ],
             [
              0.2222222222222222,
              "#7201a8"
             ],
             [
              0.3333333333333333,
              "#9c179e"
             ],
             [
              0.4444444444444444,
              "#bd3786"
             ],
             [
              0.5555555555555556,
              "#d8576b"
             ],
             [
              0.6666666666666666,
              "#ed7953"
             ],
             [
              0.7777777777777778,
              "#fb9f3a"
             ],
             [
              0.8888888888888888,
              "#fdca26"
             ],
             [
              1,
              "#f0f921"
             ]
            ],
            "type": "surface"
           }
          ],
          "table": [
           {
            "cells": {
             "fill": {
              "color": "#EBF0F8"
             },
             "line": {
              "color": "white"
             }
            },
            "header": {
             "fill": {
              "color": "#C8D4E3"
             },
             "line": {
              "color": "white"
             }
            },
            "type": "table"
           }
          ]
         },
         "layout": {
          "annotationdefaults": {
           "arrowcolor": "#2a3f5f",
           "arrowhead": 0,
           "arrowwidth": 1
          },
          "autotypenumbers": "strict",
          "coloraxis": {
           "colorbar": {
            "outlinewidth": 0,
            "ticks": ""
           }
          },
          "colorscale": {
           "diverging": [
            [
             0,
             "#8e0152"
            ],
            [
             0.1,
             "#c51b7d"
            ],
            [
             0.2,
             "#de77ae"
            ],
            [
             0.3,
             "#f1b6da"
            ],
            [
             0.4,
             "#fde0ef"
            ],
            [
             0.5,
             "#f7f7f7"
            ],
            [
             0.6,
             "#e6f5d0"
            ],
            [
             0.7,
             "#b8e186"
            ],
            [
             0.8,
             "#7fbc41"
            ],
            [
             0.9,
             "#4d9221"
            ],
            [
             1,
             "#276419"
            ]
           ],
           "sequential": [
            [
             0,
             "#0d0887"
            ],
            [
             0.1111111111111111,
             "#46039f"
            ],
            [
             0.2222222222222222,
             "#7201a8"
            ],
            [
             0.3333333333333333,
             "#9c179e"
            ],
            [
             0.4444444444444444,
             "#bd3786"
            ],
            [
             0.5555555555555556,
             "#d8576b"
            ],
            [
             0.6666666666666666,
             "#ed7953"
            ],
            [
             0.7777777777777778,
             "#fb9f3a"
            ],
            [
             0.8888888888888888,
             "#fdca26"
            ],
            [
             1,
             "#f0f921"
            ]
           ],
           "sequentialminus": [
            [
             0,
             "#0d0887"
            ],
            [
             0.1111111111111111,
             "#46039f"
            ],
            [
             0.2222222222222222,
             "#7201a8"
            ],
            [
             0.3333333333333333,
             "#9c179e"
            ],
            [
             0.4444444444444444,
             "#bd3786"
            ],
            [
             0.5555555555555556,
             "#d8576b"
            ],
            [
             0.6666666666666666,
             "#ed7953"
            ],
            [
             0.7777777777777778,
             "#fb9f3a"
            ],
            [
             0.8888888888888888,
             "#fdca26"
            ],
            [
             1,
             "#f0f921"
            ]
           ]
          },
          "colorway": [
           "#636efa",
           "#EF553B",
           "#00cc96",
           "#ab63fa",
           "#FFA15A",
           "#19d3f3",
           "#FF6692",
           "#B6E880",
           "#FF97FF",
           "#FECB52"
          ],
          "font": {
           "color": "#2a3f5f"
          },
          "geo": {
           "bgcolor": "white",
           "lakecolor": "white",
           "landcolor": "#E5ECF6",
           "showlakes": true,
           "showland": true,
           "subunitcolor": "white"
          },
          "hoverlabel": {
           "align": "left"
          },
          "hovermode": "closest",
          "mapbox": {
           "style": "light"
          },
          "paper_bgcolor": "white",
          "plot_bgcolor": "#E5ECF6",
          "polar": {
           "angularaxis": {
            "gridcolor": "white",
            "linecolor": "white",
            "ticks": ""
           },
           "bgcolor": "#E5ECF6",
           "radialaxis": {
            "gridcolor": "white",
            "linecolor": "white",
            "ticks": ""
           }
          },
          "scene": {
           "xaxis": {
            "backgroundcolor": "#E5ECF6",
            "gridcolor": "white",
            "gridwidth": 2,
            "linecolor": "white",
            "showbackground": true,
            "ticks": "",
            "zerolinecolor": "white"
           },
           "yaxis": {
            "backgroundcolor": "#E5ECF6",
            "gridcolor": "white",
            "gridwidth": 2,
            "linecolor": "white",
            "showbackground": true,
            "ticks": "",
            "zerolinecolor": "white"
           },
           "zaxis": {
            "backgroundcolor": "#E5ECF6",
            "gridcolor": "white",
            "gridwidth": 2,
            "linecolor": "white",
            "showbackground": true,
            "ticks": "",
            "zerolinecolor": "white"
           }
          },
          "shapedefaults": {
           "line": {
            "color": "#2a3f5f"
           }
          },
          "ternary": {
           "aaxis": {
            "gridcolor": "white",
            "linecolor": "white",
            "ticks": ""
           },
           "baxis": {
            "gridcolor": "white",
            "linecolor": "white",
            "ticks": ""
           },
           "bgcolor": "#E5ECF6",
           "caxis": {
            "gridcolor": "white",
            "linecolor": "white",
            "ticks": ""
           }
          },
          "title": {
           "x": 0.05
          },
          "xaxis": {
           "automargin": true,
           "gridcolor": "white",
           "linecolor": "white",
           "ticks": "",
           "title": {
            "standoff": 15
           },
           "zerolinecolor": "white",
           "zerolinewidth": 2
          },
          "yaxis": {
           "automargin": true,
           "gridcolor": "white",
           "linecolor": "white",
           "ticks": "",
           "title": {
            "standoff": 15
           },
           "zerolinecolor": "white",
           "zerolinewidth": 2
          }
         }
        },
        "title": {
         "text": "Top 10 Genres"
        },
        "xaxis": {
         "anchor": "y",
         "domain": [
          0,
          1
         ],
         "title": {
          "text": "Genre"
         }
        },
        "yaxis": {
         "anchor": "x",
         "domain": [
          0,
          1
         ],
         "title": {
          "text": "Count"
         }
        }
       }
      }
     },
     "metadata": {},
     "output_type": "display_data"
    }
   ],
   "source": [
    "fig = px.bar(\n",
    "    df_genre.head(10),\n",
    "    x=\"Genre\",\n",
    "    y=\"Count\",\n",
    "    text_auto=True)\n",
    "fig.update_layout(legend_orientation=\"h\",\n",
    "                      legend=dict(x=0, y=1, traceorder=\"normal\"),\n",
    "                      title=\"Top 10 Genres\",\n",
    "                      margin=dict(l=0, r=0, t=30, b=0)\n",
    "                    )"
   ]
  },
  {
   "attachments": {},
   "cell_type": "markdown",
   "metadata": {},
   "source": [
    "- What is the mean of minutes that a top music has?"
   ]
  },
  {
   "cell_type": "code",
   "execution_count": 28,
   "metadata": {},
   "outputs": [
    {
     "data": {
      "text/plain": [
       "Beats.Per.Minute    137.3\n",
       "Energy               60.8\n",
       "Danceability         71.2\n",
       "Loudness..dB..       -5.6\n",
       "Liveness             11.0\n",
       "Valence.             43.5\n",
       "Length.             185.7\n",
       "Acousticness..       26.3\n",
       "Speechiness.         14.6\n",
       "Popularity           92.2\n",
       "Count                 1.0\n",
       "dtype: float64"
      ]
     },
     "execution_count": 28,
     "metadata": {},
     "output_type": "execute_result"
    }
   ],
   "source": [
    "df.nlargest(10, columns=\"Popularity\").mean()"
   ]
  }
 ],
 "metadata": {
  "kernelspec": {
   "display_name": "Tutoriais",
   "language": "python",
   "name": "python3"
  },
  "language_info": {
   "codemirror_mode": {
    "name": "ipython",
    "version": 3
   },
   "file_extension": ".py",
   "mimetype": "text/x-python",
   "name": "python",
   "nbconvert_exporter": "python",
   "pygments_lexer": "ipython3",
   "version": "3.11.0"
  },
  "orig_nbformat": 4
 },
 "nbformat": 4,
 "nbformat_minor": 2
}
